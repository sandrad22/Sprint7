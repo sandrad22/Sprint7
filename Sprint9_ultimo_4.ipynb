{
  "cells": [
    {
      "cell_type": "code",
      "execution_count": null,
      "id": "38aa6c0e-46aa-4c68-a242-8d9113a8c1d4",
      "metadata": {
        "id": "38aa6c0e-46aa-4c68-a242-8d9113a8c1d4"
      },
      "outputs": [],
      "source": [
        "\n",
        "############################################################################################################\n",
        "\n",
        "################################################# NIVELL 1 #################################################\n",
        "\n",
        "############################################################################################################\n"
      ]
    },
    {
      "cell_type": "code",
      "execution_count": null,
      "id": "e7d85b03-9d80-447b-be5c-9c830e898e85",
      "metadata": {
        "id": "e7d85b03-9d80-447b-be5c-9c830e898e85"
      },
      "outputs": [],
      "source": [
        "\n",
        "# Exercici 1.- Calculadora de l'índex de massa corporal ###################################################\n",
        "\n",
        "  #Escriu una funció que calculi l'IMC ingressat per l'usuari/ària, és a dir, qui ho executi haurà d'ingressar aquestes dades.\n",
        "  #Pots obtenir més informació del seu càlcul en: IMC = peso / altura^2\n",
        "  #La funció ha de classificar el resultat en les seves respectives categories:\n",
        "     # Bajo peso: menos de 18,5 - Peso normal: 18,5-24,9 - Sobrepeso: 25-29,9 - Obesidad: más de 30.\n",
        "  #Consell: Intenta validar les dades prèviament, perquè enviï un missatge d’advertència si les dades introduïdes per l’usuari/a no\n",
        "  #estan en el format adequat o no pren valors raonables\n",
        "\n",
        "def calcular_imc(peso, altura):\n",
        "    try:\n",
        "        peso = float(peso)\n",
        "    except ValueError:\n",
        "        return \"Valor no numérico. Introduce un número para el peso.\"\n",
        "\n",
        "    if peso < 35 or peso > 200:\n",
        "        return \"El peso debe estar entre 35 y 200 kg\"\n",
        "\n",
        "    try:\n",
        "        altura = float(altura)\n",
        "    except ValueError:\n",
        "        return \"Valor no numérico. Introduce un número para la altura.\"\n",
        "\n",
        "    if altura < 1.20 or altura > 2.20:\n",
        "        return \"La altura debe estar entre 1.20 m y 2.20 m\"\n",
        "\n",
        "    imc = round((peso / altura**2), 1)\n",
        "\n",
        "    if imc < 18.5:\n",
        "      imc_clasif = \"Bajo peso\"\n",
        "    elif imc < 25:\n",
        "      imc_clasif = \"Peso normal\"\n",
        "    elif imc < 30:\n",
        "      imc_clasif = \"Sobrepeso\"\n",
        "    else:\n",
        "      imc_clasif = \"Obesidad\"\n",
        "    return {\n",
        "        \"IMC\": imc,\n",
        "        \"Clasificación\": imc_clasif\n",
        "    }\n"
      ]
    },
    {
      "cell_type": "code",
      "execution_count": null,
      "id": "nFcdXf3wTbx1",
      "metadata": {
        "id": "nFcdXf3wTbx1"
      },
      "outputs": [],
      "source": [
        "calcular_imc(\"cuarenta\", 1.45)"
      ]
    },
    {
      "cell_type": "code",
      "execution_count": null,
      "id": "6d8krz1nTb-q",
      "metadata": {
        "id": "6d8krz1nTb-q"
      },
      "outputs": [],
      "source": [
        "calcular_imc(40, \"1 metro y setenta centímetros\")"
      ]
    },
    {
      "cell_type": "code",
      "execution_count": null,
      "id": "hugQLxcnTcIr",
      "metadata": {
        "id": "hugQLxcnTcIr"
      },
      "outputs": [],
      "source": [
        "calcular_imc(4, 1.45)"
      ]
    },
    {
      "cell_type": "code",
      "execution_count": null,
      "id": "P_uAjBPfT2Ez",
      "metadata": {
        "id": "P_uAjBPfT2Ez"
      },
      "outputs": [],
      "source": [
        "calcular_imc(80, 45)"
      ]
    },
    {
      "cell_type": "code",
      "execution_count": null,
      "id": "tJMqnXGBcbxK",
      "metadata": {
        "id": "tJMqnXGBcbxK"
      },
      "outputs": [],
      "source": [
        "calcular_imc(60, 1.92)"
      ]
    },
    {
      "cell_type": "code",
      "execution_count": null,
      "id": "a23cd914-53f4-44f4-9751-35e1fb9c39ad",
      "metadata": {
        "id": "a23cd914-53f4-44f4-9751-35e1fb9c39ad"
      },
      "outputs": [],
      "source": []
    },
    {
      "cell_type": "code",
      "execution_count": null,
      "id": "a69cfd15-ca5f-4ccc-8a3c-1a4c92b4a917",
      "metadata": {
        "id": "a69cfd15-ca5f-4ccc-8a3c-1a4c92b4a917"
      },
      "outputs": [],
      "source": [
        "\n",
        "# Exercici 2.- Convertidor de temperatures ###################################################\n",
        "\n",
        "  #Existeixen diverses unitats de temperatura utilitzades en diferents contextos i regions. Les més comunes són Celsius (°C),\n",
        "  # Fahrenheit (°F) i Kelvin (K). També existeixen altres unitats com Rankine (°Ra) i Réaumur (°Re).\n",
        "  # Selecciona almenys 2 conversors, de tal manera que en introduir una temperatura retorni, com a mínim, dues conversions, de\n",
        "  # manera que es puguin guardar (recorda que un print() no es pot guardar mai).\n",
        "  # Consell: Intenta validar les dades prèviament, perquè enviï un missatge d’advertència si les dades introduides per l’usuari/a no\n",
        "  # estan en el format adequat.\n",
        "  # (EXTRA): Pensa una manera d’emmagatzemar totes les possibles conversions en un sol objecte (Llista? Diccionari?\n",
        "  # DataFrame?) en comptes d’escriure molts if else en funció de la temperatura d’origen i la temperatura de destí.\n",
        "\n",
        "def convertir_temperatura(unidad_temp, valor_temp):\n",
        "\n",
        "      limites = {'C': -273.15, 'F': -459.67, 'K': 0}    # límites de los valores: no pueden estar por debajo del cero absoluto\n",
        "\n",
        "      unidad_temp = unidad_temp.strip().upper()   # strip elimina espacios anteriores y posteriores y lower convierte en minusculas\n",
        "      if unidad_temp not in limites:\n",
        "          return \"Unidad no válida. Introduce 'C', 'F' o 'K'.\"\n",
        "\n",
        "      try:\n",
        "          valor_temp = float(valor_temp)\n",
        "      except ValueError:\n",
        "          return \"Valor no numérico. Introduce un número para la temperatura.\"\n",
        "\n",
        "      if valor_temp < limites[unidad_temp]:\n",
        "          return f\"Temperatura por debajo del cero absoluto: {limites[unidad_temp]:.2f}°{unidad_temp}. Introduce otro valor.\"\n",
        "\n",
        "      dicc_conversor = {}\n",
        "\n",
        "      if unidad_temp == 'C':\n",
        "          dicc_conversor['Fahrenheit'] = round(valor_temp * 1.8 + 32, 2)\n",
        "          dicc_conversor['Kelvin'] = round(valor_temp + 273.15, 2)\n",
        "\n",
        "      elif unidad_temp == 'F':\n",
        "          dicc_conversor['Celsius'] = round((valor_temp - 32) / 1.8, 2)\n",
        "          dicc_conversor['Kelvin'] = round((valor_temp + 459.67) * 5/9, 2)\n",
        "\n",
        "      elif unidad_temp == 'K':\n",
        "          dicc_conversor['Celsius'] = round(valor_temp - 273.15, 2)\n",
        "          dicc_conversor['Fahrenheit'] = round(valor_temp * 9/5 - 459.67, 2)\n",
        "\n",
        "      return {\n",
        "          \"Conversor de temperatura\": dicc_conversor\n",
        "      }\n"
      ]
    },
    {
      "cell_type": "code",
      "execution_count": null,
      "id": "kBh48dXJEwHv",
      "metadata": {
        "id": "kBh48dXJEwHv"
      },
      "outputs": [],
      "source": [
        "convertir_temperatura(\"s\", 10)"
      ]
    },
    {
      "cell_type": "code",
      "execution_count": null,
      "id": "pqYenvCuQuZg",
      "metadata": {
        "id": "pqYenvCuQuZg"
      },
      "outputs": [],
      "source": [
        "convertir_temperatura(\"k\", \"s\")"
      ]
    },
    {
      "cell_type": "code",
      "execution_count": null,
      "id": "qmQTx5ZIQ5Yu",
      "metadata": {
        "id": "qmQTx5ZIQ5Yu"
      },
      "outputs": [],
      "source": [
        "convertir_temperatura(\"k\", -10)"
      ]
    },
    {
      "cell_type": "code",
      "execution_count": null,
      "id": "3rXT4CRvQ93N",
      "metadata": {
        "id": "3rXT4CRvQ93N"
      },
      "outputs": [],
      "source": [
        "convertir_temperatura(\"c\", 10)"
      ]
    },
    {
      "cell_type": "code",
      "execution_count": null,
      "id": "F-SSOg3BRCZx",
      "metadata": {
        "id": "F-SSOg3BRCZx"
      },
      "outputs": [],
      "source": [
        "convertir_temperatura(\"F\", 50)"
      ]
    },
    {
      "cell_type": "code",
      "execution_count": null,
      "id": "l3zHXS2VRGIh",
      "metadata": {
        "id": "l3zHXS2VRGIh"
      },
      "outputs": [],
      "source": [
        "convertir_temperatura(\"K\", 283.15)"
      ]
    },
    {
      "cell_type": "code",
      "execution_count": null,
      "id": "eb76227d-dce3-40cc-ad3b-4ff0dd4d8664",
      "metadata": {
        "id": "eb76227d-dce3-40cc-ad3b-4ff0dd4d8664"
      },
      "outputs": [],
      "source": []
    },
    {
      "cell_type": "code",
      "execution_count": null,
      "id": "1ca84556-21a7-4e09-b702-eb61ee67dc8b",
      "metadata": {
        "id": "1ca84556-21a7-4e09-b702-eb61ee67dc8b"
      },
      "outputs": [],
      "source": [
        "\n",
        "# Exercici 3.- Comptador de paraules d'un text ###################################################\n",
        "\n",
        "  #Escriu una funció que donat un text, mostri les vegades que apareix cada paraula. Intenta que es gestionin totes les\n",
        "  #casuístiques possibles que facin que el programa no funcioni correctament.\n",
        "  #(EXTRA): Quina és la llargada mitjana de les paraules del text que has escrit? “Hola com va?” hauria de retornar (4+3+2) / 3 = 3\n",
        "\n",
        "def contador_palabras_y_calculo_media(texto):\n",
        "    import unicodedata\n",
        "    texto_sin_puntuacion = ''.join(                                                 # join junta todos los caracteres o espacios en una nueva cadena de texto sin puntuación\n",
        "        c if not unicodedata.category(c).startswith('P') else ' ' for c in texto    # pregunta si el carácter es de tipo puntuación\n",
        "    )\n",
        "    palabras = texto_sin_puntuacion.lower().split()\n",
        "\n",
        "    dicc_palabras = {}\n",
        "    tot_letras = 0\n",
        "    for palabra in palabras:\n",
        "        dicc_palabras[palabra] = dicc_palabras.get(palabra, 0) + 1                  # get argum 1 para entrar en cada palabra y argum 2 para reiniciar el contador del número de veces\n",
        "        tot_letras += len(palabra)\n",
        "\n",
        "    media_x_palabra = round(tot_letras / len(palabras), 2)\n",
        "\n",
        "    return {\n",
        "        \"Recuento de palabras\": dicc_palabras,\n",
        "        \"Longitud media\": media_x_palabra\n",
        "    }"
      ]
    },
    {
      "cell_type": "code",
      "execution_count": null,
      "id": "AEewXAQFOJ-3",
      "metadata": {
        "id": "AEewXAQFOJ-3"
      },
      "outputs": [],
      "source": [
        "contador_palabras_y_calculo_media(\"la, casa.casa, de!    la la la ,la.casa.la. la\")"
      ]
    },
    {
      "cell_type": "code",
      "execution_count": null,
      "id": "czXhhQxMQHKE",
      "metadata": {
        "id": "czXhhQxMQHKE"
      },
      "outputs": [],
      "source": [
        "contador_palabras_y_calculo_media(\"Hola com va?\")"
      ]
    },
    {
      "cell_type": "code",
      "execution_count": null,
      "id": "8d7477bc-a953-4fa9-8476-2a47fbd07611",
      "metadata": {
        "id": "8d7477bc-a953-4fa9-8476-2a47fbd07611"
      },
      "outputs": [],
      "source": []
    },
    {
      "cell_type": "code",
      "execution_count": null,
      "id": "f5f49279-1957-4fb0-84b6-5ad0affc7606",
      "metadata": {
        "id": "f5f49279-1957-4fb0-84b6-5ad0affc7606"
      },
      "outputs": [],
      "source": [
        "\n",
        "# Exercici 4.- Diccionari invers (amb possibilitat de duplicats)  ###################################################\n",
        "\n",
        "  #Resulta que el client té una enquesta molt antiga que s'emmagatzema en un diccionari i els resultats els necessita al revés,\n",
        "  #és a dir, intercanviant les claus i els valors. Els valors i claus en el diccionari original són únics; si aquest no és el cas, la funció\n",
        "  #hauria d'imprimir un missatge d'advertiment, juntament amb una llista amb els valors associats a la clau repetida.\n",
        "\n",
        "def invertir_diccionario(diccionario_original):\n",
        "\n",
        "    dicc_invertido = {}\n",
        "\n",
        "    for clave, valor in diccionario_original.items():\n",
        "          if valor not in dicc_invertido:\n",
        "              dicc_invertido[valor] = [clave]\n",
        "          else:\n",
        "              dicc_invertido[valor].append(clave)\n",
        "\n",
        "    for valor in dicc_invertido:\n",
        "        if len(dicc_invertido[valor]) > 1:\n",
        "            print(f\"ADVERTENCIA: El valor '{valor}' está asociado a más de una clave: {dicc_invertido[valor]}.\")\n",
        "\n",
        "    diccionario_final = {\n",
        "                          valor: clave[0] if len(dicc_invertido[valor]) == 1 else clave\n",
        "                          for valor, clave in dicc_invertido.items()\n",
        "    }\n",
        "\n",
        "    return {\"Diccionario invertido\": diccionario_final}\n"
      ]
    },
    {
      "cell_type": "code",
      "execution_count": null,
      "id": "6WQQz29hYBZ0",
      "metadata": {
        "id": "6WQQz29hYBZ0"
      },
      "outputs": [],
      "source": [
        "invertir_diccionario({\"x\": \"melón\", \"y\": \"naranja\", \"z\": \"naranja\", \"t\":\"manzana\", \"u\":\"manzana\", \"v\": \"manzana\", \"w\": \"fresa\" })"
      ]
    },
    {
      "cell_type": "code",
      "execution_count": null,
      "id": "tTbJ_vhTdpOe",
      "metadata": {
        "id": "tTbJ_vhTdpOe"
      },
      "outputs": [],
      "source": [
        "invertir_diccionario({'x': 'apple', 'y': 'banana', 'z': 'banana'})"
      ]
    },
    {
      "cell_type": "code",
      "execution_count": null,
      "id": "2033c009-5a33-48e8-8dd7-bcb12afee542",
      "metadata": {
        "id": "2033c009-5a33-48e8-8dd7-bcb12afee542"
      },
      "outputs": [],
      "source": []
    },
    {
      "cell_type": "code",
      "execution_count": null,
      "id": "5d2ef76e-e907-467b-8e9c-c2cbfccf6143",
      "metadata": {
        "id": "5d2ef76e-e907-467b-8e9c-c2cbfccf6143"
      },
      "outputs": [],
      "source": []
    },
    {
      "cell_type": "code",
      "execution_count": null,
      "id": "ef95f135-e2fd-44d4-8131-d776a267ce28",
      "metadata": {
        "id": "ef95f135-e2fd-44d4-8131-d776a267ce28"
      },
      "outputs": [],
      "source": [
        "\n",
        "################################################################\n",
        "\n",
        "######################### NIVELL 2 #############################\n",
        "\n",
        "################################################################\n"
      ]
    },
    {
      "cell_type": "code",
      "execution_count": null,
      "id": "e81e4bca-7db8-4250-961c-1cf51b2aa2e6",
      "metadata": {
        "id": "e81e4bca-7db8-4250-961c-1cf51b2aa2e6"
      },
      "outputs": [],
      "source": [
        "\n",
        "# Exercici 1.- Comptador i endreçador de paraules d'un text. ###################################################\n",
        "  #El client va quedar content amb el comptador de paraules, però ara vol llegir arxius TXT i que calculi la freqüència de cada\n",
        "  #paraula ordenades dins de les entrades habituals del diccionari segons la lletra amb la qual comencen, és a dir, les claus han\n",
        "  #d'anar de la A a la Z i dins de la A hem d'anar de la A la Z. Per exemple, per a l'arxiu \"tu_me_quieres_blanca.txt\" la sortida\n",
        "  #esperada seria:\n",
        "\n",
        "def contador_y_ordenador_palabras(nombre_archivo_txt):\n",
        "    try:\n",
        "        with open(nombre_archivo_txt, 'r', encoding='utf-8') as archivo:\n",
        "            texto = archivo.read()\n",
        "    except FileNotFoundError:\n",
        "        return \"Error: No se ha encontrado el archivo.\"\n",
        "\n",
        "    import unicodedata\n",
        "    texto_sin_puntuacion = ''.join(\n",
        "        c if not unicodedata.category(c).startswith('P') else ' ' for c in texto\n",
        "    )\n",
        "    palabras = texto_sin_puntuacion.lower().split()\n",
        "\n",
        "    dicc_palabras = {}\n",
        "    for palabra in palabras:\n",
        "        dicc_palabras[palabra] = dicc_palabras.get(palabra, 0) + 1\n",
        "\n",
        "    dicc_con_alfabeto = {chr(i): {} for i in range(ord('a'), ord('z') + 1)}      # chr(i) convierte un número (código Unicode) en un carácter y ord() convierte un carácter a su código Unicode (entero).\n",
        "    for palabra, contador in dicc_palabras.items():\n",
        "        letra_inicial = palabra[0]\n",
        "        if letra_inicial in dicc_con_alfabeto:\n",
        "            dicc_con_alfabeto[letra_inicial][palabra] = contador\n",
        "\n",
        "    dicc_limpio = {}\n",
        "    for letra, sub_dic in dicc_con_alfabeto.items():\n",
        "        if sub_dic:\n",
        "            dicc_limpio[letra] = sub_dic\n",
        "\n",
        "    dicc_con_alfabeto = dicc_limpio\n",
        "    for letra in dicc_con_alfabeto:\n",
        "        sub_diccionario = dicc_con_alfabeto[letra]\n",
        "        dicc_con_alfabeto[letra] = dict(sorted(sub_diccionario.items()))  # sorted ordena pares de valores por defecto orden ascendente y dict vuelve a convertir la lista ordenada en un diccionario.\n",
        "\n",
        "    return dicc_con_alfabeto\n"
      ]
    },
    {
      "cell_type": "code",
      "execution_count": null,
      "id": "5f057e77-daa0-4594-9095-fb98d1baf361",
      "metadata": {
        "id": "5f057e77-daa0-4594-9095-fb98d1baf361",
        "outputId": "9894cd32-9cd2-449d-a0ea-1eb80e5cbf4f"
      },
      "outputs": [
        {
          "data": {
            "text/plain": [
              "'Error: No se ha encontrado el archivo.'"
            ]
          },
          "execution_count": 5,
          "metadata": {},
          "output_type": "execute_result"
        }
      ],
      "source": [
        "contador_y_ordenador_palabras(\"C:/Users/formacio/nt7/tu_me_quieres.txt\")"
      ]
    },
    {
      "cell_type": "code",
      "execution_count": null,
      "id": "d459ced2-0970-4284-bbf2-7b80c6a0772d",
      "metadata": {
        "id": "d459ced2-0970-4284-bbf2-7b80c6a0772d",
        "outputId": "616e3ad1-c0b5-4896-cc41-176e7e622a1d"
      },
      "outputs": [
        {
          "data": {
            "text/plain": [
              "{'a': {'a': 3,\n",
              "  'agua': 1,\n",
              "  'al': 2,\n",
              "  'alba': 4,\n",
              "  'alcobas': 1,\n",
              "  'alimenta': 1,\n",
              "  'alma': 1,\n",
              "  'amarga': 1,\n",
              "  'azucena': 1},\n",
              " 'b': {'baco': 1,\n",
              "  'banquete': 1,\n",
              "  'bebe': 1,\n",
              "  'blanca': 3,\n",
              "  'boca': 1,\n",
              "  'bosques': 1,\n",
              "  'buen': 1},\n",
              " 'c': {'cabañas': 1,\n",
              "  'carnes': 2,\n",
              "  'casta': 3,\n",
              "  'cerrada': 1,\n",
              "  'con': 4,\n",
              "  'conservas': 1,\n",
              "  'copas': 1,\n",
              "  'corola': 1,\n",
              "  'corriste': 1,\n",
              "  'cuando': 2,\n",
              "  'cubierto': 1,\n",
              "  'cuerpo': 1,\n",
              "  'cuáles': 1},\n",
              " 'd': {'de': 8, 'dejaste': 1, 'del': 1, 'diga': 1, 'dios': 2, 'duerme': 1},\n",
              " 'e': {'el': 4,\n",
              "  'ellas': 1,\n",
              "  'en': 4,\n",
              "  'engaño': 1,\n",
              "  'enredada': 1,\n",
              "  'entonces': 1,\n",
              "  'escarcha': 1,\n",
              "  'espumas': 1,\n",
              "  'esqueleto': 1,\n",
              "  'estrago': 1},\n",
              " 'f': {'festejando': 1, 'filtrado': 1, 'frutos': 1},\n",
              " 'h': {'habla': 1,\n",
              "  'hacia': 1,\n",
              "  'haya': 1,\n",
              "  'hayas': 1,\n",
              "  'hermana': 1,\n",
              "  'hombre': 1,\n",
              "  'hubiste': 1,\n",
              "  'huye': 1},\n",
              " 'i': {'intacto': 1},\n",
              " 'j': {'jardines': 1},\n",
              " 'l': {'la': 3,\n",
              "  'labios': 1,\n",
              "  'las': 7,\n",
              "  'lo': 2,\n",
              "  'los': 4,\n",
              "  'luna': 1,\n",
              "  'lévate': 1,\n",
              "  'límpiate': 1},\n",
              " 'm': {'mano': 1,\n",
              "  'manos': 1,\n",
              "  'margarita': 1,\n",
              "  'me': 10,\n",
              "  'mi': 1,\n",
              "  'mieles': 1,\n",
              "  'milagros': 1,\n",
              "  'mojada': 1,\n",
              "  'montaña': 1,\n",
              "  'morados': 1},\n",
              " 'n': {'negros': 1, 'ni': 2, 'no': 1, 'nácar': 1, 'nívea': 2},\n",
              " 'p': {'perdone': 2,\n",
              "  'perfume': 1,\n",
              "  'por': 2,\n",
              "  'pretendes': 3,\n",
              "  'preténdeme': 3,\n",
              "  'puesto': 1,\n",
              "  'pájaros': 1,\n",
              "  'pámpanos': 1},\n",
              " 'q': {'que': 6, 'quedó': 1, 'quieres': 6},\n",
              " 'r': {'rayo': 1, 'raíz': 1, 'renueva': 1, 'rocas': 1, 'rojo': 1},\n",
              " 's': {'salitre': 1, 'se': 2, 'sea': 1, 'sean': 1, 'sobre': 2, 'sé': 1},\n",
              " 't': {'te': 3,\n",
              "  'tejidos': 1,\n",
              "  'tenue': 1,\n",
              "  'tierra': 1,\n",
              "  'toca': 1,\n",
              "  'todas': 2,\n",
              "  'todavía': 1,\n",
              "  'tornadas': 1,\n",
              "  'tú': 8},\n",
              " 'u': {'un': 1, 'una': 1},\n",
              " 'v': {'vestido': 1, 'vete': 1, 'vive': 1},\n",
              " 'y': {'y': 5}}"
            ]
          },
          "execution_count": 4,
          "metadata": {},
          "output_type": "execute_result"
        }
      ],
      "source": [
        "contador_y_ordenador_palabras(\"C:/Users/formacio/Desktop/Sandra/Sprint7/tu_me_quieres_blanca.txt\")"
      ]
    },
    {
      "cell_type": "code",
      "execution_count": null,
      "id": "549892c8-520e-44d3-862a-f1a4bb7298cc",
      "metadata": {
        "id": "549892c8-520e-44d3-862a-f1a4bb7298cc"
      },
      "outputs": [],
      "source": [
        "#Exercici 2.- Conversió de tipus de dades ###################################################\n",
        " #El client rep una llista de dades i necessita generar dues llistes, la primera on estaran tots els elements que es van poder\n",
        " #convertir en flotants i l'altra on estan els elements que no es van poder convertir. Exemple de la llista que rep el client:\n",
        " #[ '1.3', 'one' , '1e10' , 'seven', '3-1/2', ('2',1,1.4,'not-a-number'), [1,2,'3','3.4']]\n",
        "\n",
        "\n",
        "def conversion_datos(lista_datos):\n",
        "    lista_elementos = []\n",
        "\n",
        "    lista_float = []\n",
        "    lista_no_float = []\n",
        "\n",
        "    for elemento in lista_datos:\n",
        "        if isinstance(elemento, (list, tuple)):\n",
        "            lista_elementos.extend(elemento)\n",
        "        else:\n",
        "            lista_elementos.append(elemento)\n",
        "\n",
        "    for elemento in lista_elementos:\n",
        "            try:\n",
        "                lista_float.append(float(elemento))\n",
        "            except ValueError:\n",
        "                lista_no_float.append(elemento)\n",
        "    return {\n",
        "        \"Lista de floats\": lista_float,\n",
        "        \"Lista no floats\": lista_no_float\n",
        "    }\n",
        "\n"
      ]
    },
    {
      "cell_type": "code",
      "execution_count": null,
      "id": "82021a4f-d189-4192-8a20-6dee5f25d81c",
      "metadata": {
        "id": "82021a4f-d189-4192-8a20-6dee5f25d81c",
        "outputId": "35489ea8-4135-403b-fe03-881b389826e2"
      },
      "outputs": [
        {
          "data": {
            "text/plain": [
              "{'Lista de floats': [1.3, 10000000000.0, 2.0, 1.0, 1.4, 1.0, 2.0, 3.0, 3.4],\n",
              " 'Lista no floats': ['one', 'seven', '3-1/2', 'not-a-number']}"
            ]
          },
          "execution_count": 39,
          "metadata": {},
          "output_type": "execute_result"
        }
      ],
      "source": [
        "conversion_datos(lista_datos = [ '1.3', 'one' , '1e10' , 'seven', '3-1/2', ('2',1,1.4,'not-a-number'), [1,2,'3','3.4']])"
      ]
    },
    {
      "cell_type": "code",
      "source": [],
      "metadata": {
        "id": "ECBqj3mQy20Q"
      },
      "id": "ECBqj3mQy20Q",
      "execution_count": null,
      "outputs": []
    },
    {
      "cell_type": "code",
      "execution_count": null,
      "id": "6dd7ba8c-523a-4407-b40f-0c10b7e27daf",
      "metadata": {
        "id": "6dd7ba8c-523a-4407-b40f-0c10b7e27daf"
      },
      "outputs": [],
      "source": [
        "\n",
        "################################################################\n",
        "\n",
        "######################### NIVELL 3 #############################\n",
        "\n",
        "################################################################\n"
      ]
    },
    {
      "cell_type": "code",
      "execution_count": null,
      "id": "242b44a2-ab21-4b4d-890c-0c0f47929676",
      "metadata": {
        "id": "242b44a2-ab21-4b4d-890c-0c0f47929676"
      },
      "outputs": [],
      "source": []
    },
    {
      "cell_type": "code",
      "execution_count": 31,
      "id": "f0ea929d-c6ba-4efd-aff4-8f85bce9976e",
      "metadata": {
        "id": "f0ea929d-c6ba-4efd-aff4-8f85bce9976e"
      },
      "outputs": [],
      "source": [
        "# Exercici 1.- Generador de Contrasenyes ################################################\n",
        "  #Explora el funcionament del mòdul random de la llibreria numpy.\n",
        "  #En aquest punt, el client ha detectat un problema amb les contrasenyes que utilitzen els seus treballadors. Asdf1234, dates\n",
        "  #d’aniversari o similars. Per a solucionar-ho ens ha encarregat una funció de Python que generi contrasenyes més segures. La\n",
        "  #funció ha de dependre dels següents paràmetres:\n",
        "      # longitud (int): Longitud de la contrasenya\n",
        "      # majuscules (bool = True): Si hi ha d’aparèixer majúscules\n",
        "      # minuscules (bool = True): Si hi ha d’aparèixer minúscules\n",
        "      # numeros (bool = True): Si hi ha d’aparèixer números\n",
        "      # signes (bool = False): No hi ha d’aparèixer caràcters especials (,-$? o similars)\n",
        "  #Així doncs, si executem la funció de la següent manera:\n",
        "  #crear_contrasenya(10, True, True, True, True)\n",
        "  #Hauríem d’obtenir un output (que hem de poder guardar) de l’estil:\n",
        "      # 9Er,5Vn8P$\n",
        "  #Assegura’t que es compleixin tots els criteris, i que aquestes contrasenyes siguin realment aleatòries.\n",
        "  #(EXTRA) Explora com podríem fer que la funció copiés la contrasenya automàticament al porta papers de l’ordinador (com si\n",
        "  #l’haguéssim seleccionat i fet ctrl+copy)\n",
        "\n",
        "# !pip install pyperclip\n",
        "\n",
        "import string\n",
        "import secrets\n",
        "import random\n",
        "import numpy as np\n",
        "import pyperclip\n",
        "\n",
        "def crear_contraseña(longitud, bool_mayusculas, bool_minusculas, bool_numeros, bool_signos):\n",
        "    try:\n",
        "        longitud = int(longitud)\n",
        "        if longitud < 4:\n",
        "            return \"La longitud ha de ser mayor que 4.\"\n",
        "    except ValueError:\n",
        "        return \"Valor no numérico. Introduce un número para definir la longitud de la contraseña.\"\n",
        "\n",
        "    if not bool_mayusculas and not bool_minusculas and not bool_numeros and not bool_signos:\n",
        "        return \"Error: Al menos un tipo de carácter ha de estar activado\"\n",
        "\n",
        "    mayusculas = string.ascii_uppercase\n",
        "    minusculas = string.ascii_lowercase\n",
        "    numeros = string.digits\n",
        "    signos = string.punctuation\n",
        "\n",
        "    alfabeto = ''\n",
        "\n",
        "    if bool_mayusculas:\n",
        "        alfabeto += mayusculas\n",
        "\n",
        "    if bool_minusculas:\n",
        "        alfabeto += minusculas\n",
        "\n",
        "    if bool_numeros:\n",
        "        alfabeto += numeros\n",
        "\n",
        "    if bool_signos:\n",
        "        alfabeto += signos\n",
        "\n",
        "    while True:\n",
        "        contraseña = ''\n",
        "        for i in range(longitud):\n",
        "              contraseña += ''.join(secrets.choice(alfabeto))\n",
        "\n",
        "        if (bool_mayusculas == (any(char in mayusculas for char in contraseña)) and\n",
        "            bool_minusculas == (any(char in minusculas for char in contraseña)) and\n",
        "            bool_numeros == (any(char in numeros for char in contraseña)) and\n",
        "            bool_signos == (any(char in signos for char in contraseña))\n",
        "           ):\n",
        "              break\n",
        "    contraseña_lista = list(contraseña)\n",
        "    random.SystemRandom().shuffle(contraseña_lista)\n",
        "    contraseña = ''.join(contraseña_lista)\n",
        "\n",
        "    return contraseña\n"
      ]
    },
    {
      "cell_type": "code",
      "execution_count": 32,
      "id": "7382fdc4-9ec6-4684-8875-97b87e70dfa0",
      "metadata": {
        "colab": {
          "base_uri": "https://localhost:8080/"
        },
        "id": "7382fdc4-9ec6-4684-8875-97b87e70dfa0",
        "outputId": "8a4db889-ae5d-4171-e92c-a74fd1606050"
      },
      "outputs": [
        {
          "output_type": "stream",
          "name": "stdout",
          "text": [
            "Contrasenya generada: b(\"<.|fE~.\n"
          ]
        }
      ],
      "source": [
        "c = crear_contraseña(10, True, True, False, True)\n",
        "print(\"Contrasenya generada:\", c)\n",
        "\n",
        "#pyperclip.copy(c)\n",
        "#print(\"S'ha copiat al porta-papeles.\")"
      ]
    },
    {
      "cell_type": "code",
      "execution_count": 2,
      "id": "5eb2b11e-e098-4f4a-bbc6-93f4d33a20e9",
      "metadata": {
        "colab": {
          "base_uri": "https://localhost:8080/",
          "height": 73
        },
        "id": "5eb2b11e-e098-4f4a-bbc6-93f4d33a20e9",
        "outputId": "c97f3987-f01e-4c24-cef8-546f54c0a045"
      },
      "outputs": [
        {
          "output_type": "display_data",
          "data": {
            "text/plain": [
              "<IPython.core.display.HTML object>"
            ],
            "text/html": [
              "\n",
              "     <input type=\"file\" id=\"files-3db3c03a-178f-4523-94cd-6f027a4c74f0\" name=\"files[]\" multiple disabled\n",
              "        style=\"border:none\" />\n",
              "     <output id=\"result-3db3c03a-178f-4523-94cd-6f027a4c74f0\">\n",
              "      Upload widget is only available when the cell has been executed in the\n",
              "      current browser session. Please rerun this cell to enable.\n",
              "      </output>\n",
              "      <script>// Copyright 2017 Google LLC\n",
              "//\n",
              "// Licensed under the Apache License, Version 2.0 (the \"License\");\n",
              "// you may not use this file except in compliance with the License.\n",
              "// You may obtain a copy of the License at\n",
              "//\n",
              "//      http://www.apache.org/licenses/LICENSE-2.0\n",
              "//\n",
              "// Unless required by applicable law or agreed to in writing, software\n",
              "// distributed under the License is distributed on an \"AS IS\" BASIS,\n",
              "// WITHOUT WARRANTIES OR CONDITIONS OF ANY KIND, either express or implied.\n",
              "// See the License for the specific language governing permissions and\n",
              "// limitations under the License.\n",
              "\n",
              "/**\n",
              " * @fileoverview Helpers for google.colab Python module.\n",
              " */\n",
              "(function(scope) {\n",
              "function span(text, styleAttributes = {}) {\n",
              "  const element = document.createElement('span');\n",
              "  element.textContent = text;\n",
              "  for (const key of Object.keys(styleAttributes)) {\n",
              "    element.style[key] = styleAttributes[key];\n",
              "  }\n",
              "  return element;\n",
              "}\n",
              "\n",
              "// Max number of bytes which will be uploaded at a time.\n",
              "const MAX_PAYLOAD_SIZE = 100 * 1024;\n",
              "\n",
              "function _uploadFiles(inputId, outputId) {\n",
              "  const steps = uploadFilesStep(inputId, outputId);\n",
              "  const outputElement = document.getElementById(outputId);\n",
              "  // Cache steps on the outputElement to make it available for the next call\n",
              "  // to uploadFilesContinue from Python.\n",
              "  outputElement.steps = steps;\n",
              "\n",
              "  return _uploadFilesContinue(outputId);\n",
              "}\n",
              "\n",
              "// This is roughly an async generator (not supported in the browser yet),\n",
              "// where there are multiple asynchronous steps and the Python side is going\n",
              "// to poll for completion of each step.\n",
              "// This uses a Promise to block the python side on completion of each step,\n",
              "// then passes the result of the previous step as the input to the next step.\n",
              "function _uploadFilesContinue(outputId) {\n",
              "  const outputElement = document.getElementById(outputId);\n",
              "  const steps = outputElement.steps;\n",
              "\n",
              "  const next = steps.next(outputElement.lastPromiseValue);\n",
              "  return Promise.resolve(next.value.promise).then((value) => {\n",
              "    // Cache the last promise value to make it available to the next\n",
              "    // step of the generator.\n",
              "    outputElement.lastPromiseValue = value;\n",
              "    return next.value.response;\n",
              "  });\n",
              "}\n",
              "\n",
              "/**\n",
              " * Generator function which is called between each async step of the upload\n",
              " * process.\n",
              " * @param {string} inputId Element ID of the input file picker element.\n",
              " * @param {string} outputId Element ID of the output display.\n",
              " * @return {!Iterable<!Object>} Iterable of next steps.\n",
              " */\n",
              "function* uploadFilesStep(inputId, outputId) {\n",
              "  const inputElement = document.getElementById(inputId);\n",
              "  inputElement.disabled = false;\n",
              "\n",
              "  const outputElement = document.getElementById(outputId);\n",
              "  outputElement.innerHTML = '';\n",
              "\n",
              "  const pickedPromise = new Promise((resolve) => {\n",
              "    inputElement.addEventListener('change', (e) => {\n",
              "      resolve(e.target.files);\n",
              "    });\n",
              "  });\n",
              "\n",
              "  const cancel = document.createElement('button');\n",
              "  inputElement.parentElement.appendChild(cancel);\n",
              "  cancel.textContent = 'Cancel upload';\n",
              "  const cancelPromise = new Promise((resolve) => {\n",
              "    cancel.onclick = () => {\n",
              "      resolve(null);\n",
              "    };\n",
              "  });\n",
              "\n",
              "  // Wait for the user to pick the files.\n",
              "  const files = yield {\n",
              "    promise: Promise.race([pickedPromise, cancelPromise]),\n",
              "    response: {\n",
              "      action: 'starting',\n",
              "    }\n",
              "  };\n",
              "\n",
              "  cancel.remove();\n",
              "\n",
              "  // Disable the input element since further picks are not allowed.\n",
              "  inputElement.disabled = true;\n",
              "\n",
              "  if (!files) {\n",
              "    return {\n",
              "      response: {\n",
              "        action: 'complete',\n",
              "      }\n",
              "    };\n",
              "  }\n",
              "\n",
              "  for (const file of files) {\n",
              "    const li = document.createElement('li');\n",
              "    li.append(span(file.name, {fontWeight: 'bold'}));\n",
              "    li.append(span(\n",
              "        `(${file.type || 'n/a'}) - ${file.size} bytes, ` +\n",
              "        `last modified: ${\n",
              "            file.lastModifiedDate ? file.lastModifiedDate.toLocaleDateString() :\n",
              "                                    'n/a'} - `));\n",
              "    const percent = span('0% done');\n",
              "    li.appendChild(percent);\n",
              "\n",
              "    outputElement.appendChild(li);\n",
              "\n",
              "    const fileDataPromise = new Promise((resolve) => {\n",
              "      const reader = new FileReader();\n",
              "      reader.onload = (e) => {\n",
              "        resolve(e.target.result);\n",
              "      };\n",
              "      reader.readAsArrayBuffer(file);\n",
              "    });\n",
              "    // Wait for the data to be ready.\n",
              "    let fileData = yield {\n",
              "      promise: fileDataPromise,\n",
              "      response: {\n",
              "        action: 'continue',\n",
              "      }\n",
              "    };\n",
              "\n",
              "    // Use a chunked sending to avoid message size limits. See b/62115660.\n",
              "    let position = 0;\n",
              "    do {\n",
              "      const length = Math.min(fileData.byteLength - position, MAX_PAYLOAD_SIZE);\n",
              "      const chunk = new Uint8Array(fileData, position, length);\n",
              "      position += length;\n",
              "\n",
              "      const base64 = btoa(String.fromCharCode.apply(null, chunk));\n",
              "      yield {\n",
              "        response: {\n",
              "          action: 'append',\n",
              "          file: file.name,\n",
              "          data: base64,\n",
              "        },\n",
              "      };\n",
              "\n",
              "      let percentDone = fileData.byteLength === 0 ?\n",
              "          100 :\n",
              "          Math.round((position / fileData.byteLength) * 100);\n",
              "      percent.textContent = `${percentDone}% done`;\n",
              "\n",
              "    } while (position < fileData.byteLength);\n",
              "  }\n",
              "\n",
              "  // All done.\n",
              "  yield {\n",
              "    response: {\n",
              "      action: 'complete',\n",
              "    }\n",
              "  };\n",
              "}\n",
              "\n",
              "scope.google = scope.google || {};\n",
              "scope.google.colab = scope.google.colab || {};\n",
              "scope.google.colab._files = {\n",
              "  _uploadFiles,\n",
              "  _uploadFilesContinue,\n",
              "};\n",
              "})(self);\n",
              "</script> "
            ]
          },
          "metadata": {}
        },
        {
          "output_type": "stream",
          "name": "stdout",
          "text": [
            "Saving historic partits.txt to historic partits.txt\n"
          ]
        }
      ],
      "source": [
        "# Exercici 2.- Processament de dades simple\n",
        "  #Una companya de feina ens ha demanat un favor, aprofitant que sap que estem aprenent a programar. Té un històric de\n",
        "  #partits de futbol català en un fitxer, on hi ha emmagatzemat els noms dels equips i els resultats. Necessita que processem les\n",
        "  #dades de manera automàtica, per extreure’n els resultats que necessita.\n",
        "  #Utilitza el fitxer \"historic_partits.txt\"\n",
        "  #Necessita un programa que retorni:\n",
        "  #El nombre total de gols que ha fet cada equip.\n",
        "  #El nom de l’equip més golejador.\n",
        "  #El nom de l’equip més golejat\n",
        "  #La classificació global (cada victòria: 3 pts, empat 1 pts, derrota 0 pts)\n",
        "  #Pots utilitzar el format que et sigui més convenient.\n",
        "\n",
        "\n",
        "#with open(nombre_archivo_txt, 'r', encoding='utf-8') as archivo:\n",
        " #           texto = archivo.read()\n",
        "\n",
        "\n",
        "\n",
        "from google.colab import files\n",
        "uploaded = files.upload()"
      ]
    },
    {
      "cell_type": "code",
      "execution_count": 21,
      "id": "55df8b15-22c4-465d-9e9a-1412cb88810f",
      "metadata": {
        "colab": {
          "base_uri": "https://localhost:8080/"
        },
        "id": "55df8b15-22c4-465d-9e9a-1412cb88810f",
        "outputId": "24a8308c-abcc-4d04-c291-678500e105ec"
      },
      "outputs": [
        {
          "output_type": "stream",
          "name": "stdout",
          "text": [
            "[{'Manlleu': 0, 'Granollers': 1}, {'Vilafranca': 4, 'Terrassa': 5}, {'Olot': 5, 'Granollers': 0}, {'Vilafranca': 5, 'Manlleu': 5}, {'Cornellà': 5, 'Prat': 1}, {'Cerdanyola': 0, 'Vilafranca': 5}, {'Sant Andreu': 2, 'Cornellà': 3}, {'Vilafranca': 5, 'Olot': 4}, {'FC Barcelona': 4, 'Badalona': 4}, {'Granollers': 1, 'Sabadell': 5}, {'Granollers': 0, 'Europa': 5}, {'Prat': 5, 'Llagostera': 2}, {'Llagostera': 2, 'Vilafranca': 5}, {'Sant Andreu': 1, 'Figueres': 4}, {'Figueres': 1, 'Cerdanyola': 2}, {'Granollers': 0, 'Cornellà': 4}, {'Figueres': 2, 'RCD Espanyol': 3}, {'Llagostera': 2, 'Figueres': 5}, {'Cornellà': 3, 'Reus Deportiu': 1}, {'Europa': 5, 'Granollers': 1}, {'Terrassa': 0, 'Europa': 4}, {'Olot': 1, 'Sant Andreu': 2}, {'Vilafranca': 5, 'Europa': 2}, {'Vilafranca': 1, 'Reus Deportiu': 5}, {'Reus Deportiu': 4, 'Nàstic de Tarragona': 4}, {'Prat': 3, 'Lleida Esportiu': 0}, {'Sant Andreu': 1, 'Cerdanyola': 2}, {'Granollers': 2, 'Prat': 0}, {'Vilafranca': 5, 'Terrassa': 5}, {'Girona FC': 3, 'Nàstic de Tarragona': 0}, {'Cerdanyola': 2, 'Olot': 4}, {'Prat': 3, 'Nàstic de Tarragona': 2}, {'Figueres': 4, 'Terrassa': 4}, {'Badalona': 4, 'Sant Andreu': 3}, {'Badalona': 3, 'Manlleu': 4}, {'Terrassa': 4, 'Nàstic de Tarragona': 0}, {'Reus Deportiu': 1, 'Llagostera': 0}, {'Manlleu': 2, 'Badalona': 3}, {'Granollers': 2, 'Nàstic de Tarragona': 3}, {'Figueres': 4, 'Lleida Esportiu': 1}, {'Olot': 1, 'FC Barcelona': 1}, {'Manlleu': 2, 'Girona FC': 5}, {'Figueres': 5, 'Cornellà': 5}, {'Llagostera': 3, 'Figueres': 1}, {'Cerdanyola': 5, 'Manlleu': 1}, {'Olot': 4, 'FC Barcelona': 0}, {'Badalona': 4, 'FC Barcelona': 2}, {'Sabadell': 5, 'Lleida Esportiu': 1}, {'Girona FC': 0, 'RCD Espanyol': 3}, {'Terrassa': 0, 'Girona FC': 4}, {'Manlleu': 2, 'Nàstic de Tarragona': 1}, {'FC Barcelona': 5, 'Terrassa': 2}, {'FC Barcelona': 5, 'RCD Espanyol': 3}, {'Lleida Esportiu': 0, 'Sabadell': 2}, {'Vilafranca': 4, 'Badalona': 2}, {'Terrassa': 1, 'Cornellà': 2}, {'Sabadell': 3, 'Olot': 2}, {'Figueres': 2, 'Granollers': 5}, {'Vilafranca': 1, 'RCD Espanyol': 2}, {'Cerdanyola': 0, 'Manlleu': 0}, {'Vilafranca': 3, 'Lleida Esportiu': 4}, {'Vilafranca': 4, 'Cerdanyola': 0}, {'Olot': 2, 'Badalona': 3}, {'Prat': 5, 'Europa': 4}, {'Cerdanyola': 4, 'Lleida Esportiu': 5}, {'Sant Andreu': 0, 'Girona FC': 2}, {'Cornellà': 5, 'Terrassa': 5}, {'Granollers': 5, 'Vilafranca': 2}, {'Sant Andreu': 5, 'Vilafranca': 5}, {'Llagostera': 5, 'RCD Espanyol': 4}, {'Badalona': 0, 'Sabadell': 3}, {'Olot': 3, 'RCD Espanyol': 0}, {'Prat': 5, 'Cerdanyola': 2}, {'Cornellà': 3, 'Manlleu': 5}, {'Cornellà': 0, 'Lleida Esportiu': 3}, {'Badalona': 5, 'Lleida Esportiu': 4}, {'Llagostera': 2, 'Terrassa': 0}, {'Badalona': 3, 'Europa': 3}, {'Llagostera': 0, 'Europa': 4}, {'Vilafranca': 4, 'Prat': 0}, {'Cerdanyola': 5, 'Vilafranca': 3}, {'Girona FC': 3, 'Lleida Esportiu': 4}, {'Girona FC': 1, 'Llagostera': 0}, {'Cerdanyola': 4, 'Girona FC': 1}, {'Lleida Esportiu': 2, 'Reus Deportiu': 3}, {'Nàstic de Tarragona': 3, 'Olot': 4}, {'Prat': 1, 'Figueres': 0}, {'Figueres': 4, 'Cerdanyola': 0}, {'Girona FC': 5, 'Olot': 1}, {'Llagostera': 3, 'Vilafranca': 0}, {'Europa': 2, 'Sant Andreu': 0}, {'Figueres': 1, 'Reus Deportiu': 5}, {'Sant Andreu': 2, 'Lleida Esportiu': 2}, {'Olot': 4, 'Cerdanyola': 4}, {'Cornellà': 2, 'Lleida Esportiu': 5}, {'Terrassa': 4, 'Granollers': 5}, {'Vilafranca': 0, 'Nàstic de Tarragona': 0}, {'Cornellà': 2, 'FC Barcelona': 5}, {'Manlleu': 5, 'Girona FC': 2}, {'Manlleu': 2, 'Sant Andreu': 1}, {'RCD Espanyol': 1, 'Girona FC': 4}, {'Badalona': 1, 'Cerdanyola': 1}, {'Olot': 1, 'Vilafranca': 2}, {'RCD Espanyol': 4, 'Badalona': 4}, {'Prat': 2, 'Vilafranca': 3}, {'Manlleu': 4, 'Cerdanyola': 5}, {'Sabadell': 1, 'Terrassa': 0}, {'RCD Espanyol': 4, 'Manlleu': 4}, {'Manlleu': 2, 'Reus Deportiu': 3}, {'Cornellà': 5, 'Nàstic de Tarragona': 2}, {'Sant Andreu': 0, 'Badalona': 5}, {'Cornellà': 5, 'Sabadell': 2}, {'Terrassa': 0, 'Girona FC': 3}, {'Sabadell': 4, 'Terrassa': 3}, {'Lleida Esportiu': 1, 'Badalona': 1}, {'Cornellà': 1, 'Reus Deportiu': 2}, {'Manlleu': 5, 'Europa': 3}, {'Lleida Esportiu': 5, 'RCD Espanyol': 0}, {'Figueres': 0, 'Granollers': 4}, {'Prat': 1, 'FC Barcelona': 5}, {'Manlleu': 0, 'Sabadell': 5}, {'Sabadell': 5, 'Vilafranca': 4}, {'Sant Andreu': 0, 'Lleida Esportiu': 2}, {'Manlleu': 1, 'RCD Espanyol': 2}, {'Figueres': 5, 'Reus Deportiu': 5}, {'RCD Espanyol': 0, 'Nàstic de Tarragona': 2}, {'Cerdanyola': 1, 'Girona FC': 2}, {'Figueres': 2, 'RCD Espanyol': 4}, {'Olot': 3, 'RCD Espanyol': 4}, {'FC Barcelona': 4, 'Badalona': 0}, {'Granollers': 2, 'Sabadell': 4}, {'Reus Deportiu': 1, 'Figueres': 0}, {'Prat': 3, 'Lleida Esportiu': 4}, {'Sabadell': 0, 'Figueres': 5}, {'Vilafranca': 2, 'Cornellà': 3}, {'Llagostera': 3, 'Cornellà': 5}, {'Sant Andreu': 3, 'Granollers': 4}, {'Figueres': 4, 'Europa': 2}, {'Girona FC': 2, 'Badalona': 4}, {'Girona FC': 4, 'Cerdanyola': 1}, {'Cerdanyola': 3, 'Vilafranca': 4}, {'Badalona': 5, 'Vilafranca': 1}, {'Manlleu': 0, 'Figueres': 2}, {'Figueres': 0, 'FC Barcelona': 0}, {'Reus Deportiu': 3, 'Prat': 3}, {'Cerdanyola': 5, 'Terrassa': 0}, {'Sabadell': 2, 'Lleida Esportiu': 3}, {'Girona FC': 5, 'Sant Andreu': 1}, {'FC Barcelona': 4, 'Vilafranca': 0}, {'Llagostera': 3, 'Olot': 0}, {'Sabadell': 1, 'Cornellà': 5}, {'Llagostera': 3, 'Manlleu': 1}, {'Granollers': 2, 'RCD Espanyol': 3}, {'Prat': 3, 'Cornellà': 4}, {'Terrassa': 4, 'Olot': 4}, {'Reus Deportiu': 3, 'Sant Andreu': 5}, {'Nàstic de Tarragona': 4, 'RCD Espanyol': 0}, {'Llagostera': 2, 'Terrassa': 4}, {'Girona FC': 3, 'Terrassa': 2}, {'Cornellà': 4, 'RCD Espanyol': 1}, {'Terrassa': 3, 'Cerdanyola': 2}, {'Girona FC': 0, 'FC Barcelona': 4}, {'Lleida Esportiu': 3, 'Llagostera': 4}, {'Llagostera': 5, 'Reus Deportiu': 0}, {'Figueres': 3, 'Nàstic de Tarragona': 5}, {'Olot': 2, 'Granollers': 0}, {'Vilafranca': 1, 'Lleida Esportiu': 4}, {'Nàstic de Tarragona': 2, 'Girona FC': 5}, {'Cerdanyola': 3, 'Nàstic de Tarragona': 3}, {'Prat': 5, 'Manlleu': 0}, {'Cornellà': 0, 'Cerdanyola': 4}, {'Nàstic de Tarragona': 3, 'Cornellà': 0}, {'FC Barcelona': 4, 'Sant Andreu': 0}, {'Cerdanyola': 2, 'Sabadell': 3}, {'FC Barcelona': 5, 'Granollers': 4}, {'Olot': 3, 'Sant Andreu': 3}, {'Europa': 5, 'Vilafranca': 2}, {'RCD Espanyol': 1, 'Vilafranca': 1}, {'Sabadell': 3, 'Olot': 1}, {'Lleida Esportiu': 0, 'Badalona': 0}, {'Europa': 2, 'Olot': 3}, {'Granollers': 0, 'Terrassa': 1}, {'Badalona': 3, 'Nàstic de Tarragona': 5}, {'Sant Andreu': 2, 'Nàstic de Tarragona': 0}, {'Cerdanyola': 1, 'Figueres': 2}, {'RCD Espanyol': 5, 'Cerdanyola': 3}, {'Europa': 0, 'Girona FC': 3}, {'Sabadell': 2, 'RCD Espanyol': 5}, {'Cerdanyola': 2, 'Sabadell': 5}, {'Prat': 5, 'Cornellà': 0}, {'Granollers': 3, 'Terrassa': 4}, {'Reus Deportiu': 5, 'Prat': 2}, {'Sabadell': 3, 'Manlleu': 1}, {'Cerdanyola': 3, 'Figueres': 4}, {'Terrassa': 5, 'Lleida Esportiu': 1}, {'Cornellà': 2, 'Lleida Esportiu': 0}, {'Cerdanyola': 2, 'Figueres': 1}, {'Figueres': 5, 'Reus Deportiu': 3}, {'RCD Espanyol': 1, 'Granollers': 1}, {'FC Barcelona': 1, 'Llagostera': 5}, {'Reus Deportiu': 5, 'Lleida Esportiu': 5}, {'Vilafranca': 3, 'Manlleu': 0}, {'Prat': 0, 'Reus Deportiu': 1}, {'Sant Andreu': 5, 'Granollers': 2}, {'Terrassa': 2, 'Badalona': 2}, {'Europa': 5, 'Manlleu': 5}, {'Europa': 4, 'FC Barcelona': 4}, {'Prat': 2, 'Granollers': 0}, {'Reus Deportiu': 3, 'Figueres': 0}, {'Nàstic de Tarragona': 5, 'Cerdanyola': 4}, {'Vilafranca': 4, 'Sant Andreu': 0}, {'Llagostera': 1, 'Cornellà': 1}, {'Olot': 4, 'Nàstic de Tarragona': 0}, {'Cornellà': 1, 'Girona FC': 4}, {'Girona FC': 4, 'FC Barcelona': 0}, {'Girona FC': 3, 'Lleida Esportiu': 5}, {'Prat': 5, 'Granollers': 3}, {'Manlleu': 0, 'Granollers': 5}, {'Olot': 0, 'Badalona': 3}, {'Sabadell': 4, 'Prat': 3}, {'Nàstic de Tarragona': 4, 'Prat': 2}, {'Cerdanyola': 1, 'Figueres': 2}, {'Cornellà': 4, 'Vilafranca': 5}, {'Llagostera': 5, 'Terrassa': 2}, {'Llagostera': 1, 'Figueres': 4}, {'Terrassa': 3, 'Llagostera': 5}, {'Vilafranca': 2, 'Cornellà': 4}, {'Llagostera': 2, 'Sant Andreu': 0}, {'Cerdanyola': 0, 'FC Barcelona': 5}, {'RCD Espanyol': 1, 'Lleida Esportiu': 1}, {'Nàstic de Tarragona': 2, 'Sant Andreu': 0}, {'Sabadell': 5, 'Cornellà': 1}, {'Llagostera': 3, 'Cornellà': 1}, {'Granollers': 5, 'Manlleu': 0}, {'Europa': 4, 'RCD Espanyol': 0}, {'Cornellà': 0, 'Reus Deportiu': 3}, {'Terrassa': 2, 'Olot': 3}, {'Lleida Esportiu': 2, 'Sabadell': 1}, {'Llagostera': 2, 'Manlleu': 4}, {'FC Barcelona': 2, 'RCD Espanyol': 5}, {'Cerdanyola': 2, 'Nàstic de Tarragona': 4}, {'RCD Espanyol': 1, 'Llagostera': 3}, {'Cornellà': 2, 'Cerdanyola': 0}, {'Nàstic de Tarragona': 5, 'FC Barcelona': 0}, {'Reus Deportiu': 3, 'Sabadell': 3}, {'Manlleu': 3, 'Llagostera': 1}, {'Olot': 3, 'Figueres': 3}, {'Girona FC': 0, 'Olot': 2}, {'Manlleu': 2, 'Figueres': 2}, {'Badalona': 1, 'Vilafranca': 0}, {'RCD Espanyol': 5, 'Figueres': 4}, {'Llagostera': 4, 'Sant Andreu': 0}, {'Reus Deportiu': 0, 'Llagostera': 3}, {'Girona FC': 2, 'Prat': 0}, {'Figueres': 5, 'Reus Deportiu': 2}, {'Granollers': 4, 'Lleida Esportiu': 2}, {'Nàstic de Tarragona': 2, 'Vilafranca': 2}, {'Vilafranca': 2, 'Granollers': 1}, {'Sant Andreu': 5, 'Sabadell': 5}, {'Llagostera': 3, 'Cornellà': 5}, {'Girona FC': 2, 'Figueres': 4}, {'FC Barcelona': 2, 'Prat': 0}, {'Manlleu': 2, 'Badalona': 2}, {'Reus Deportiu': 5, 'Terrassa': 3}, {'Figueres': 4, 'Llagostera': 5}, {'Terrassa': 4, 'Badalona': 4}, {'Manlleu': 0, 'Sant Andreu': 4}, {'RCD Espanyol': 2, 'Nàstic de Tarragona': 0}, {'Cornellà': 0, 'Prat': 5}, {'Lleida Esportiu': 4, 'Sant Andreu': 2}, {'RCD Espanyol': 3, 'Nàstic de Tarragona': 1}, {'Sabadell': 1, 'Granollers': 0}, {'FC Barcelona': 5, 'Prat': 5}, {'Cerdanyola': 0, 'Girona FC': 1}, {'Prat': 2, 'Sant Andreu': 4}, {'Vilafranca': 1, 'RCD Espanyol': 1}, {'Cerdanyola': 5, 'Terrassa': 0}, {'FC Barcelona': 0, 'Cornellà': 5}, {'Manlleu': 3, 'Cerdanyola': 0}, {'Sabadell': 1, 'Vilafranca': 4}, {'Llagostera': 0, 'Lleida Esportiu': 5}, {'Nàstic de Tarragona': 2, 'Sant Andreu': 2}, {'Prat': 0, 'RCD Espanyol': 0}, {'Cerdanyola': 2, 'Lleida Esportiu': 5}, {'Manlleu': 5, 'Girona FC': 0}, {'Granollers': 4, 'RCD Espanyol': 5}, {'Badalona': 2, 'Olot': 4}, {'Lleida Esportiu': 2, 'Girona FC': 3}, {'Figueres': 3, 'Badalona': 1}, {'Terrassa': 4, 'Cornellà': 5}, {'RCD Espanyol': 1, 'Europa': 2}, {'Europa': 0, 'Vilafranca': 1}, {'Nàstic de Tarragona': 2, 'Figueres': 5}, {'Sant Andreu': 1, 'Manlleu': 5}, {'Europa': 5, 'FC Barcelona': 3}, {'Sant Andreu': 1, 'Lleida Esportiu': 3}, {'Cerdanyola': 2, 'Badalona': 4}, {'Sant Andreu': 4, 'Terrassa': 0}, {'Sabadell': 4, 'Europa': 3}, {'Badalona': 3, 'Nàstic de Tarragona': 1}, {'Granollers': 4, 'Vilafranca': 1}, {'Reus Deportiu': 4, 'Vilafranca': 1}, {'Prat': 1, 'Granollers': 5}, {'RCD Espanyol': 0, 'Nàstic de Tarragona': 5}, {'Badalona': 0, 'Sabadell': 2}, {'Girona FC': 3, 'Badalona': 3}, {'Terrassa': 1, 'Sabadell': 0}, {'Lleida Esportiu': 2, 'Figueres': 5}, {'Olot': 2, 'Figueres': 2}, {'RCD Espanyol': 0, 'Llagostera': 4}, {'Badalona': 5, 'Figueres': 0}, {'Prat': 1, 'Olot': 2}, {'Cerdanyola': 0, 'Lleida Esportiu': 2}, {'FC Barcelona': 2, 'Figueres': 5}, {'Terrassa': 5, 'Badalona': 5}, {'Nàstic de Tarragona': 5, 'Badalona': 4}, {'Nàstic de Tarragona': 0, 'Terrassa': 4}, {'Sant Andreu': 3, 'Nàstic de Tarragona': 4}, {'Cornellà': 3, 'Reus Deportiu': 3}, {'Cerdanyola': 4, 'Manlleu': 1}, {'Sabadell': 3, 'Nàstic de Tarragona': 3}, {'Reus Deportiu': 4, 'Nàstic de Tarragona': 5}, {'Cerdanyola': 2, 'FC Barcelona': 0}, {'Nàstic de Tarragona': 2, 'RCD Espanyol': 3}, {'Europa': 4, 'Badalona': 2}, {'Cornellà': 3, 'RCD Espanyol': 4}, {'Sabadell': 1, 'Granollers': 1}, {'Girona FC': 5, 'Olot': 2}, {'FC Barcelona': 5, 'Nàstic de Tarragona': 2}, {'Nàstic de Tarragona': 2, 'Figueres': 5}, {'Vilafranca': 2, 'FC Barcelona': 0}, {'Europa': 2, 'Lleida Esportiu': 3}, {'RCD Espanyol': 5, 'Olot': 2}, {'Lleida Esportiu': 0, 'Nàstic de Tarragona': 1}, {'Prat': 1, 'Olot': 0}, {'Terrassa': 5, 'Europa': 2}, {'Llagostera': 0, 'Nàstic de Tarragona': 5}, {'Nàstic de Tarragona': 3, 'Reus Deportiu': 2}, {'Reus Deportiu': 1, 'Llagostera': 4}, {'Sabadell': 0, 'Badalona': 4}, {'Vilafranca': 2, 'Lleida Esportiu': 1}, {'Llagostera': 0, 'Terrassa': 2}, {'Girona FC': 5, 'Vilafranca': 5}, {'Granollers': 4, 'Olot': 4}, {'Girona FC': 3, 'Cerdanyola': 0}, {'FC Barcelona': 1, 'Cerdanyola': 1}, {'Badalona': 5, 'Reus Deportiu': 5}, {'Cornellà': 4, 'Figueres': 4}, {'Girona FC': 5, 'Figueres': 4}, {'Sabadell': 5, 'FC Barcelona': 3}, {'Nàstic de Tarragona': 0, 'Girona FC': 4}, {'Terrassa': 3, 'Reus Deportiu': 2}, {'Reus Deportiu': 1, 'Europa': 1}, {'Terrassa': 5, 'Llagostera': 5}, {'Prat': 4, 'Cornellà': 1}, {'Sant Andreu': 3, 'Prat': 0}, {'Prat': 1, 'Cerdanyola': 3}, {'Sabadell': 5, 'Figueres': 0}, {'Olot': 1, 'Manlleu': 1}, {'Reus Deportiu': 0, 'Terrassa': 1}, {'Sant Andreu': 2, 'Terrassa': 2}, {'Nàstic de Tarragona': 2, 'Sabadell': 4}, {'Llagostera': 3, 'Cerdanyola': 5}, {'Granollers': 3, 'Badalona': 1}, {'Figueres': 4, 'Reus Deportiu': 0}, {'Europa': 4, 'Llagostera': 5}, {'Girona FC': 2, 'Terrassa': 4}, {'Olot': 1, 'Granollers': 2}, {'Vilafranca': 5, 'Olot': 5}, {'RCD Espanyol': 4, 'Figueres': 2}, {'Terrassa': 3, 'Figueres': 3}, {'Girona FC': 5, 'Sabadell': 2}, {'Sabadell': 3, 'Cornellà': 3}, {'Granollers': 0, 'Girona FC': 2}, {'Olot': 0, 'FC Barcelona': 4}, {'Europa': 4, 'Girona FC': 4}, {'Lleida Esportiu': 5, 'Vilafranca': 4}, {'Reus Deportiu': 2, 'Sabadell': 4}, {'Sant Andreu': 5, 'Olot': 2}, {'Lleida Esportiu': 2, 'Granollers': 2}, {'Llagostera': 4, 'Granollers': 2}, {'Terrassa': 0, 'Llagostera': 2}, {'Lleida Esportiu': 5, 'Badalona': 3}, {'Sabadell': 3, 'Figueres': 5}, {'Nàstic de Tarragona': 3, 'Sabadell': 4}, {'Europa': 0, 'Cerdanyola': 5}, {'Cornellà': 4, 'Manlleu': 5}, {'Reus Deportiu': 5, 'Lleida Esportiu': 1}, {'Vilafranca': 1, 'RCD Espanyol': 0}, {'RCD Espanyol': 4, 'Girona FC': 5}, {'Granollers': 4, 'Vilafranca': 0}, {'Sant Andreu': 2, 'Reus Deportiu': 4}, {'Lleida Esportiu': 1, 'FC Barcelona': 2}, {'Llagostera': 4, 'Sant Andreu': 4}, {'Girona FC': 2, 'Llagostera': 4}, {'Figueres': 0, 'Reus Deportiu': 4}, {'Lleida Esportiu': 1, 'RCD Espanyol': 5}, {'Prat': 2, 'Sant Andreu': 0}, {'Badalona': 0, 'Sant Andreu': 1}, {'Olot': 1, 'Reus Deportiu': 2}, {'Sabadell': 1, 'Sant Andreu': 4}, {'Sant Andreu': 0, 'Lleida Esportiu': 1}, {'FC Barcelona': 3, 'Lleida Esportiu': 2}, {'Badalona': 3, 'Llagostera': 0}, {'Llagostera': 0, 'Cornellà': 2}, {'Cornellà': 3, 'Olot': 1}, {'Nàstic de Tarragona': 0, 'Cornellà': 1}, {'Girona FC': 4, 'RCD Espanyol': 1}, {'Vilafranca': 4, 'Llagostera': 4}, {'Nàstic de Tarragona': 3, 'FC Barcelona': 4}, {'Nàstic de Tarragona': 0, 'Cornellà': 2}, {'Terrassa': 0, 'Manlleu': 0}, {'Sabadell': 3, 'Terrassa': 3}, {'Nàstic de Tarragona': 2, 'Vilafranca': 2}, {'Sabadell': 4, 'Figueres': 4}, {'RCD Espanyol': 2, 'Prat': 0}, {'Cornellà': 1, 'Terrassa': 2}, {'Prat': 0, 'Badalona': 0}, {'Figueres': 0, 'Granollers': 2}, {'Manlleu': 5, 'FC Barcelona': 0}, {'Sant Andreu': 3, 'Reus Deportiu': 5}, {'RCD Espanyol': 2, 'Badalona': 1}, {'Sant Andreu': 5, 'Cornellà': 0}, {'Olot': 4, 'FC Barcelona': 5}, {'Olot': 5, 'Figueres': 1}, {'Prat': 3, 'Cornellà': 1}, {'Olot': 3, 'Figueres': 1}, {'Olot': 2, 'Girona FC': 4}, {'Sabadell': 5, 'Cerdanyola': 3}, {'Llagostera': 3, 'Manlleu': 5}, {'Granollers': 2, 'Badalona': 4}, {'RCD Espanyol': 4, 'Cerdanyola': 5}, {'Llagostera': 4, 'Sant Andreu': 4}, {'FC Barcelona': 5, 'Vilafranca': 3}, {'Lleida Esportiu': 2, 'Reus Deportiu': 1}, {'Granollers': 2, 'Cerdanyola': 1}, {'Europa': 0, 'Manlleu': 3}, {'Granollers': 4, 'RCD Espanyol': 5}, {'FC Barcelona': 4, 'Nàstic de Tarragona': 5}, {'Manlleu': 3, 'RCD Espanyol': 3}, {'Sabadell': 4, 'Manlleu': 5}, {'Europa': 2, 'Reus Deportiu': 0}, {'Olot': 4, 'Granollers': 0}, {'Terrassa': 3, 'RCD Espanyol': 1}, {'Vilafranca': 2, 'Terrassa': 5}, {'Reus Deportiu': 0, 'Sant Andreu': 5}, {'Nàstic de Tarragona': 4, 'RCD Espanyol': 0}, {'Prat': 4, 'Sant Andreu': 4}, {'Terrassa': 5, 'Vilafranca': 3}, {'FC Barcelona': 3, 'Llagostera': 0}, {'Granollers': 5, 'Olot': 0}, {'Figueres': 4, 'Vilafranca': 5}, {'Terrassa': 3, 'Llagostera': 3}, {'Prat': 3, 'RCD Espanyol': 3}, {'Nàstic de Tarragona': 1, 'Llagostera': 4}, {'Olot': 4, 'Vilafranca': 4}, {'Olot': 0, 'Granollers': 3}, {'Badalona': 3, 'Llagostera': 3}, {'Europa': 1, 'Olot': 5}, {'Cornellà': 2, 'Sant Andreu': 2}, {'Girona FC': 5, 'Lleida Esportiu': 1}, {'Reus Deportiu': 5, 'Sant Andreu': 2}, {'Vilafranca': 0, 'Lleida Esportiu': 4}, {'FC Barcelona': 1, 'Llagostera': 5}, {'Badalona': 3, 'Terrassa': 4}, {'FC Barcelona': 1, 'RCD Espanyol': 1}, {'Sant Andreu': 5, 'Terrassa': 4}, {'Sabadell': 0, 'Girona FC': 1}, {'RCD Espanyol': 1, 'Prat': 3}, {'Nàstic de Tarragona': 3, 'Prat': 3}, {'FC Barcelona': 5, 'Prat': 2}, {'RCD Espanyol': 1, 'Cerdanyola': 4}, {'Terrassa': 1, 'Sant Andreu': 2}, {'Llagostera': 5, 'Europa': 4}, {'Lleida Esportiu': 1, 'Figueres': 5}, {'Nàstic de Tarragona': 1, 'Girona FC': 3}, {'Cornellà': 5, 'Badalona': 2}, {'Olot': 3, 'Lleida Esportiu': 0}, {'Granollers': 5, 'Manlleu': 3}, {'Granollers': 1, 'Llagostera': 3}, {'Sabadell': 5, 'Olot': 3}, {'Reus Deportiu': 3, 'Terrassa': 1}, {'Prat': 3, 'RCD Espanyol': 3}, {'RCD Espanyol': 5, 'Nàstic de Tarragona': 1}, {'Sant Andreu': 0, 'Terrassa': 0}, {'Cornellà': 5, 'Terrassa': 0}, {'Vilafranca': 4, 'Cornellà': 5}, {'Vilafranca': 4, 'Badalona': 5}, {'FC Barcelona': 4, 'Lleida Esportiu': 3}, {'Terrassa': 5, 'Cornellà': 4}, {'Olot': 1, 'Europa': 5}, {'Lleida Esportiu': 4, 'Figueres': 5}, {'Sant Andreu': 5, 'Europa': 0}, {'Sant Andreu': 3, 'Girona FC': 1}, {'Sabadell': 1, 'Llagostera': 3}, {'Nàstic de Tarragona': 1, 'Olot': 3}, {'Badalona': 5, 'Prat': 4}, {'Olot': 4, 'Llagostera': 5}, {'FC Barcelona': 3, 'Cornellà': 1}, {'Olot': 0, 'Granollers': 5}]\n"
          ]
        }
      ],
      "source": [
        "with open('historic partits.txt', 'r', encoding='utf-8') as archivo:\n",
        "    texto = archivo.readlines()\n",
        "\n",
        "    result_partidos = []\n",
        "\n",
        "    for linea in texto:\n",
        "        eq_local, marcador, eq_visit = linea.strip().split('\\t')              # split separa en subcadenas por el tabulador '\\t' y lo elimina\n",
        "        goles_local, goles_visit = marcador.split('-')                        # Separa por guion\n",
        "        goles_local = int(goles_local)\n",
        "        goles_visit = int(goles_visit)\n",
        "        result_partidos.append({eq_local: goles_local, eq_visit: goles_visit})\n",
        "\n",
        "    print(result_partidos)\n",
        ""
      ]
    },
    {
      "cell_type": "code",
      "source": [
        "dicc_palabras = {}\n",
        "    for palabra in palabras:\n",
        "        dicc_palabras[palabra] = dicc_palabras.get(palabra, 0) + 1\n",
        "\n",
        "    dicc_con_alfabeto = {chr(i): {} for i in range(ord('a'), ord('z') + 1)}      # chr(i) convierte un número (código Unicode) en un carácter y ord() convierte un carácter a su código Unicode (entero).\n",
        "    for palabra, contador in dicc_palabras.items():\n",
        "        letra_inicial = palabra[0]\n",
        "        if letra_inicial in dicc_con_alfabeto:\n",
        "            dicc_con_alfabeto[letra_inicial][palabra] = contador\n",
        "\n",
        "    dicc_limpio = {}\n",
        "    for letra, sub_dic in dicc_con_alfabeto.items():\n",
        "        if sub_dic:\n",
        "            dicc_limpio[letra] = sub_dic\n"
      ],
      "metadata": {
        "id": "DjfMhQE9z1_D"
      },
      "id": "DjfMhQE9z1_D",
      "execution_count": null,
      "outputs": []
    }
  ],
  "metadata": {
    "colab": {
      "provenance": []
    },
    "kernelspec": {
      "display_name": "Python 3 (ipykernel)",
      "language": "python",
      "name": "python3"
    },
    "language_info": {
      "codemirror_mode": {
        "name": "ipython",
        "version": 3
      },
      "file_extension": ".py",
      "mimetype": "text/x-python",
      "name": "python",
      "nbconvert_exporter": "python",
      "pygments_lexer": "ipython3",
      "version": "3.13.5"
    }
  },
  "nbformat": 4,
  "nbformat_minor": 5
}