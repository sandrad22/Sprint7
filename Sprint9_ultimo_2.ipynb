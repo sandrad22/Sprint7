{
 "cells": [
  {
   "cell_type": "code",
   "execution_count": null,
   "id": "38aa6c0e-46aa-4c68-a242-8d9113a8c1d4",
   "metadata": {
    "id": "38aa6c0e-46aa-4c68-a242-8d9113a8c1d4"
   },
   "outputs": [],
   "source": [
    "\n",
    "############################################################################################################\n",
    "\n",
    "################################################# NIVELL 1 #################################################\n",
    "\n",
    "############################################################################################################\n"
   ]
  },
  {
   "cell_type": "code",
   "execution_count": null,
   "id": "e7d85b03-9d80-447b-be5c-9c830e898e85",
   "metadata": {
    "id": "e7d85b03-9d80-447b-be5c-9c830e898e85"
   },
   "outputs": [],
   "source": [
    "\n",
    "# Exercici 1.- Calculadora de l'índex de massa corporal ###################################################\n",
    "\n",
    "  #Escriu una funció que calculi l'IMC ingressat per l'usuari/ària, és a dir, qui ho executi haurà d'ingressar aquestes dades.\n",
    "  #Pots obtenir més informació del seu càlcul en: IMC = peso / altura^2\n",
    "  #La funció ha de classificar el resultat en les seves respectives categories:\n",
    "     # Bajo peso: menos de 18,5 - Peso normal: 18,5-24,9 - Sobrepeso: 25-29,9 - Obesidad: más de 30.\n",
    "  #Consell: Intenta validar les dades prèviament, perquè enviï un missatge d’advertència si les dades introduïdes per l’usuari/a no\n",
    "  #estan en el format adequat o no pren valors raonables\n",
    "\n",
    "def calcular_imc(peso, altura):\n",
    "    try:\n",
    "        peso = float(peso)\n",
    "    except ValueError:\n",
    "        return \"Valor no numérico. Introduce un número para el peso.\"\n",
    "\n",
    "    if peso < 35 or peso > 200:\n",
    "        return \"El peso debe estar entre 35 y 200 kg\"\n",
    "\n",
    "    try:\n",
    "        altura = float(altura)\n",
    "    except ValueError:\n",
    "        return \"Valor no numérico. Introduce un número para la altura.\"\n",
    "\n",
    "    if altura < 1.20 or altura > 2.20:\n",
    "        return \"La altura debe estar entre 1.20 m y 2.20 m\"\n",
    "\n",
    "    imc = round((peso / altura**2), 1)\n",
    "\n",
    "    if imc < 18.5:\n",
    "      imc_clasif = \"Bajo peso\"\n",
    "    elif imc < 25:\n",
    "      imc_clasif = \"Peso normal\"\n",
    "    elif imc < 30:\n",
    "      imc_clasif = \"Sobrepeso\"\n",
    "    else:\n",
    "      imc_clasif = \"Obesidad\"\n",
    "    return {\n",
    "        \"IMC\": imc,\n",
    "        \"Clasificación\": imc_clasif\n",
    "    }\n"
   ]
  },
  {
   "cell_type": "code",
   "execution_count": null,
   "id": "nFcdXf3wTbx1",
   "metadata": {
    "colab": {
     "base_uri": "https://localhost:8080/",
     "height": 35
    },
    "id": "nFcdXf3wTbx1",
    "outputId": "78008e1e-3466-400f-ec49-1378788ea327"
   },
   "outputs": [],
   "source": [
    "calcular_imc(\"cuarenta\", 1.45)"
   ]
  },
  {
   "cell_type": "code",
   "execution_count": null,
   "id": "6d8krz1nTb-q",
   "metadata": {
    "colab": {
     "base_uri": "https://localhost:8080/",
     "height": 35
    },
    "id": "6d8krz1nTb-q",
    "outputId": "15ef3729-ea57-434c-ad67-118bce7bd7bb"
   },
   "outputs": [],
   "source": [
    "calcular_imc(40, \"1 metro y setenta centímetros\")"
   ]
  },
  {
   "cell_type": "code",
   "execution_count": null,
   "id": "hugQLxcnTcIr",
   "metadata": {
    "colab": {
     "base_uri": "https://localhost:8080/",
     "height": 35
    },
    "id": "hugQLxcnTcIr",
    "outputId": "341a2672-e04e-4788-994b-4b361482778b"
   },
   "outputs": [],
   "source": [
    "calcular_imc(4, 1.45)"
   ]
  },
  {
   "cell_type": "code",
   "execution_count": null,
   "id": "P_uAjBPfT2Ez",
   "metadata": {
    "colab": {
     "base_uri": "https://localhost:8080/",
     "height": 35
    },
    "id": "P_uAjBPfT2Ez",
    "outputId": "725a8834-eb0f-4993-badf-d2de19024fc8"
   },
   "outputs": [],
   "source": [
    "calcular_imc(80, 45)"
   ]
  },
  {
   "cell_type": "code",
   "execution_count": null,
   "id": "tJMqnXGBcbxK",
   "metadata": {
    "colab": {
     "base_uri": "https://localhost:8080/"
    },
    "id": "tJMqnXGBcbxK",
    "outputId": "6bfb1217-2cc2-4bec-c1bd-f34931187646"
   },
   "outputs": [],
   "source": [
    "calcular_imc(60, 1.92)"
   ]
  },
  {
   "cell_type": "code",
   "execution_count": null,
   "id": "a23cd914-53f4-44f4-9751-35e1fb9c39ad",
   "metadata": {},
   "outputs": [],
   "source": []
  },
  {
   "cell_type": "code",
   "execution_count": null,
   "id": "a69cfd15-ca5f-4ccc-8a3c-1a4c92b4a917",
   "metadata": {
    "id": "a69cfd15-ca5f-4ccc-8a3c-1a4c92b4a917"
   },
   "outputs": [],
   "source": [
    "\n",
    "# Exercici 2.- Convertidor de temperatures ###################################################\n",
    "\n",
    "  #Existeixen diverses unitats de temperatura utilitzades en diferents contextos i regions. Les més comunes són Celsius (°C),\n",
    "  # Fahrenheit (°F) i Kelvin (K). També existeixen altres unitats com Rankine (°Ra) i Réaumur (°Re).\n",
    "  # Selecciona almenys 2 conversors, de tal manera que en introduir una temperatura retorni, com a mínim, dues conversions, de\n",
    "  # manera que es puguin guardar (recorda que un print() no es pot guardar mai).\n",
    "  # Consell: Intenta validar les dades prèviament, perquè enviï un missatge d’advertència si les dades introduides per l’usuari/a no\n",
    "  # estan en el format adequat.\n",
    "  # (EXTRA): Pensa una manera d’emmagatzemar totes les possibles conversions en un sol objecte (Llista? Diccionari?\n",
    "  # DataFrame?) en comptes d’escriure molts if else en funció de la temperatura d’origen i la temperatura de destí.\n",
    "\n",
    "def convertir_temperatura(unidad_temp, valor_temp):\n",
    "\n",
    "      limites = {'C': -273.15, 'F': -459.67, 'K': 0}    # límites de los valores: no pueden estar por debajo del cero absoluto\n",
    "\n",
    "      unidad_temp = unidad_temp.strip().upper()   # strip elimina espacios anteriores y posteriores y lower convierte en minusculas\n",
    "      if unidad_temp not in limites:\n",
    "          return \"Unidad no válida. Introduce 'C', 'F' o 'K'.\"\n",
    "\n",
    "      try:\n",
    "          valor_temp = float(valor_temp)\n",
    "      except ValueError:\n",
    "          return \"Valor no numérico. Introduce un número para la temperatura.\"\n",
    "\n",
    "      if valor_temp < limites[unidad_temp]:\n",
    "          return f\"Temperatura por debajo del cero absoluto: {limites[unidad_temp]:.2f}°{unidad_temp}. Introduce otro valor.\"\n",
    "\n",
    "      dicc_conversor = {}\n",
    "\n",
    "      if unidad_temp == 'C':\n",
    "          dicc_conversor['Fahrenheit'] = round(valor_temp * 1.8 + 32, 2)\n",
    "          dicc_conversor['Kelvin'] = round(valor_temp + 273.15, 2)\n",
    "\n",
    "      elif unidad_temp == 'F':\n",
    "          dicc_conversor['Celsius'] = round((valor_temp - 32) / 1.8, 2)\n",
    "          dicc_conversor['Kelvin'] = round((valor_temp + 459.67) * 5/9, 2)\n",
    "\n",
    "      elif unidad_temp == 'K':\n",
    "          dicc_conversor['Celsius'] = round(valor_temp - 273.15, 2)\n",
    "          dicc_conversor['Fahrenheit'] = round(valor_temp * 9/5 - 459.67, 2)\n",
    "\n",
    "      return {\n",
    "          \"Conversor de temperatura\": dicc_conversor\n",
    "      }\n"
   ]
  },
  {
   "cell_type": "code",
   "execution_count": null,
   "id": "kBh48dXJEwHv",
   "metadata": {
    "colab": {
     "base_uri": "https://localhost:8080/",
     "height": 35
    },
    "id": "kBh48dXJEwHv",
    "outputId": "0f9df7ce-5649-409c-d57f-d852999c386e"
   },
   "outputs": [],
   "source": [
    "convertir_temperatura(\"s\", 10)"
   ]
  },
  {
   "cell_type": "code",
   "execution_count": null,
   "id": "pqYenvCuQuZg",
   "metadata": {
    "colab": {
     "base_uri": "https://localhost:8080/",
     "height": 35
    },
    "id": "pqYenvCuQuZg",
    "outputId": "267b08e0-5141-4ec1-f68f-562718aace78"
   },
   "outputs": [],
   "source": [
    "convertir_temperatura(\"k\", \"s\")"
   ]
  },
  {
   "cell_type": "code",
   "execution_count": null,
   "id": "qmQTx5ZIQ5Yu",
   "metadata": {
    "colab": {
     "base_uri": "https://localhost:8080/",
     "height": 35
    },
    "id": "qmQTx5ZIQ5Yu",
    "outputId": "4d995707-b2f9-4c76-d39a-6cc3913ddc7f"
   },
   "outputs": [],
   "source": [
    "convertir_temperatura(\"k\", -10)"
   ]
  },
  {
   "cell_type": "code",
   "execution_count": null,
   "id": "3rXT4CRvQ93N",
   "metadata": {
    "colab": {
     "base_uri": "https://localhost:8080/"
    },
    "id": "3rXT4CRvQ93N",
    "outputId": "25e003a6-9309-4ffb-c0ae-ab1f491ee102"
   },
   "outputs": [],
   "source": [
    "convertir_temperatura(\"c\", 10)"
   ]
  },
  {
   "cell_type": "code",
   "execution_count": null,
   "id": "F-SSOg3BRCZx",
   "metadata": {
    "colab": {
     "base_uri": "https://localhost:8080/"
    },
    "id": "F-SSOg3BRCZx",
    "outputId": "07591128-1382-4c3b-f456-69abbb0a1fe5"
   },
   "outputs": [],
   "source": [
    "convertir_temperatura(\"F\", 50)"
   ]
  },
  {
   "cell_type": "code",
   "execution_count": null,
   "id": "l3zHXS2VRGIh",
   "metadata": {
    "colab": {
     "base_uri": "https://localhost:8080/"
    },
    "id": "l3zHXS2VRGIh",
    "outputId": "d46ae235-9484-45bf-eeb2-22e2fbbf6705"
   },
   "outputs": [],
   "source": [
    "convertir_temperatura(\"K\", 283.15)"
   ]
  },
  {
   "cell_type": "code",
   "execution_count": null,
   "id": "eb76227d-dce3-40cc-ad3b-4ff0dd4d8664",
   "metadata": {},
   "outputs": [],
   "source": []
  },
  {
   "cell_type": "code",
   "execution_count": null,
   "id": "1ca84556-21a7-4e09-b702-eb61ee67dc8b",
   "metadata": {
    "id": "1ca84556-21a7-4e09-b702-eb61ee67dc8b"
   },
   "outputs": [],
   "source": [
    "\n",
    "# Exercici 3.- Comptador de paraules d'un text ###################################################\n",
    "\n",
    "  #Escriu una funció que donat un text, mostri les vegades que apareix cada paraula. Intenta que es gestionin totes les\n",
    "  #casuístiques possibles que facin que el programa no funcioni correctament.\n",
    "  #(EXTRA): Quina és la llargada mitjana de les paraules del text que has escrit? “Hola com va?” hauria de retornar (4+3+2) / 3 = 3\n",
    "\n",
    "def contador_palabras_y_calculo_media(texto):\n",
    "    import unicodedata\n",
    "    texto_sin_puntuacion = ''.join(                                                 # join junta todos los caracteres o espacios en una nueva cadena de texto sin puntuación\n",
    "        c if not unicodedata.category(c).startswith('P') else ' ' for c in texto    # pregunta si el carácter es de tipo puntuación\n",
    "    )\n",
    "    palabras = texto_sin_puntuacion.lower().split()\n",
    "\n",
    "    dicc_palabras = {}\n",
    "    tot_letras = 0\n",
    "    for palabra in palabras:\n",
    "        dicc_palabras[palabra] = dicc_palabras.get(palabra, 0) + 1                  # get argum 1 para entrar en cada palabra y argum 2 para reiniciar el contador del número de veces\n",
    "        tot_letras += len(palabra)\n",
    "\n",
    "    media_x_palabra = round(tot_letras / len(palabras), 2)\n",
    "\n",
    "    return {\n",
    "        \"Recuento de palabras\": dicc_palabras,\n",
    "        \"Longitud media\": media_x_palabra\n",
    "    }"
   ]
  },
  {
   "cell_type": "code",
   "execution_count": null,
   "id": "AEewXAQFOJ-3",
   "metadata": {
    "colab": {
     "base_uri": "https://localhost:8080/"
    },
    "id": "AEewXAQFOJ-3",
    "outputId": "d3ee546e-eee3-4484-9579-06bebb5025f6"
   },
   "outputs": [],
   "source": [
    "contador_palabras_y_calculo_media(\"la, casa.casa, de!    la la la ,la.casa.la. la\")"
   ]
  },
  {
   "cell_type": "code",
   "execution_count": null,
   "id": "czXhhQxMQHKE",
   "metadata": {
    "colab": {
     "base_uri": "https://localhost:8080/"
    },
    "id": "czXhhQxMQHKE",
    "outputId": "9f3e9e88-6fc1-4a7b-f247-b4e69a0e769f"
   },
   "outputs": [],
   "source": [
    "contador_palabras_y_calculo_media(\"Hola com va?\")"
   ]
  },
  {
   "cell_type": "code",
   "execution_count": null,
   "id": "8d7477bc-a953-4fa9-8476-2a47fbd07611",
   "metadata": {},
   "outputs": [],
   "source": []
  },
  {
   "cell_type": "code",
   "execution_count": null,
   "id": "f5f49279-1957-4fb0-84b6-5ad0affc7606",
   "metadata": {
    "id": "f5f49279-1957-4fb0-84b6-5ad0affc7606"
   },
   "outputs": [],
   "source": [
    "\n",
    "# Exercici 4.- Diccionari invers (amb possibilitat de duplicats)  ###################################################\n",
    "\n",
    "  #Resulta que el client té una enquesta molt antiga que s'emmagatzema en un diccionari i els resultats els necessita al revés,\n",
    "  #és a dir, intercanviant les claus i els valors. Els valors i claus en el diccionari original són únics; si aquest no és el cas, la funció\n",
    "  #hauria d'imprimir un missatge d'advertiment, juntament amb una llista amb els valors associats a la clau repetida.\n",
    "\n",
    "def invertir_diccionario(diccionario_original):\n",
    "\n",
    "    dicc_invertido = {}\n",
    "\n",
    "    for clave, valor in diccionario_original.items():\n",
    "          if valor not in dicc_invertido:\n",
    "              dicc_invertido[valor] = [clave]\n",
    "          else:\n",
    "              dicc_invertido[valor].append(clave)\n",
    "\n",
    "    for valor in dicc_invertido:\n",
    "        if len(dicc_invertido[valor]) > 1:\n",
    "            print(f\"ADVERTENCIA: El valor '{valor}' está asociado a más de una clave: {dicc_invertido[valor]}.\")\n",
    "\n",
    "    diccionario_final = {\n",
    "                          valor: clave[0] if len(dicc_invertido[valor]) == 1 else clave\n",
    "                          for valor, clave in dicc_invertido.items()\n",
    "    }\n",
    "\n",
    "    return {\"Diccionario invertido\": diccionario_final}\n"
   ]
  },
  {
   "cell_type": "code",
   "execution_count": null,
   "id": "6WQQz29hYBZ0",
   "metadata": {
    "colab": {
     "base_uri": "https://localhost:8080/"
    },
    "id": "6WQQz29hYBZ0",
    "outputId": "722f2afd-99b8-4d73-e1a2-46155d7d418c"
   },
   "outputs": [],
   "source": [
    "invertir_diccionario({\"x\": \"melón\", \"y\": \"naranja\", \"z\": \"naranja\", \"t\":\"manzana\", \"u\":\"manzana\", \"v\": \"manzana\", \"w\": \"fresa\" })"
   ]
  },
  {
   "cell_type": "code",
   "execution_count": null,
   "id": "tTbJ_vhTdpOe",
   "metadata": {
    "colab": {
     "base_uri": "https://localhost:8080/"
    },
    "id": "tTbJ_vhTdpOe",
    "outputId": "3ac4bc1b-30c0-4c6c-ea7a-9c8d7ddd8ff2"
   },
   "outputs": [],
   "source": [
    "invertir_diccionario({'x': 'apple', 'y': 'banana', 'z': 'banana'})"
   ]
  },
  {
   "cell_type": "code",
   "execution_count": null,
   "id": "2033c009-5a33-48e8-8dd7-bcb12afee542",
   "metadata": {},
   "outputs": [],
   "source": []
  },
  {
   "cell_type": "code",
   "execution_count": null,
   "id": "5d2ef76e-e907-467b-8e9c-c2cbfccf6143",
   "metadata": {},
   "outputs": [],
   "source": []
  },
  {
   "cell_type": "code",
   "execution_count": null,
   "id": "ef95f135-e2fd-44d4-8131-d776a267ce28",
   "metadata": {
    "id": "ef95f135-e2fd-44d4-8131-d776a267ce28"
   },
   "outputs": [],
   "source": [
    "\n",
    "################################################################\n",
    "\n",
    "######################### NIVELL 2 #############################\n",
    "\n",
    "################################################################\n"
   ]
  },
  {
   "cell_type": "code",
   "execution_count": 55,
   "id": "e81e4bca-7db8-4250-961c-1cf51b2aa2e6",
   "metadata": {},
   "outputs": [],
   "source": [
    "\n",
    "# Exercici 1.- Comptador i endreçador de paraules d'un text. ###################################################\n",
    "  #El client va quedar content amb el comptador de paraules, però ara vol llegir arxius TXT i que calculi la freqüència de cada\n",
    "  #paraula ordenades dins de les entrades habituals del diccionari segons la lletra amb la qual comencen, és a dir, les claus han\n",
    "  #d'anar de la A a la Z i dins de la A hem d'anar de la A la Z. Per exemple, per a l'arxiu \"tu_me_quieres_blanca.txt\" la sortida\n",
    "  #esperada seria:\n",
    "\n",
    "def contador_y_ordenador_palabras(nombre_archivo_txt):\n",
    "    try:\n",
    "        with open(nombre_archivo_txt, 'r', encoding='utf-8') as archivo:\n",
    "            texto = archivo.read()\n",
    "    except FileNotFoundError:\n",
    "        return \"Error: No se ha encontrado el archivo.\"\n",
    "    \n",
    "    import unicodedata\n",
    "    texto_sin_puntuacion = ''.join(\n",
    "        c if not unicodedata.category(c).startswith('P') else ' ' for c in texto\n",
    "    )\n",
    "    palabras = texto_sin_puntuacion.lower().split()\n",
    "\n",
    "    dicc_palabras = {}\n",
    "    for palabra in palabras:\n",
    "        dicc_palabras[palabra] = dicc_palabras.get(palabra, 0) + 1\n",
    "\n",
    "    dicc_con_alfabeto = {chr(i): {} for i in range(ord('a'), ord('z') + 1)}      # chr(i) convierte un número (código Unicode) en un carácter y ord() convierte un carácter a su código Unicode (entero).\n",
    "    for palabra, contador in dicc_palabras.items():\n",
    "        letra_inicial = palabra[0]\n",
    "        if letra_inicial in dicc_con_alfabeto:\n",
    "            dicc_con_alfabeto[letra_inicial][palabra] = contador\n",
    "\n",
    "    dicc_limpio = {}\n",
    "    for letra, sub_dic in dicc_con_alfabeto.items():\n",
    "        if sub_dic:  \n",
    "            dicc_limpio[letra] = sub_dic\n",
    "\n",
    "    dicc_con_alfabeto = dicc_limpio\n",
    "    for letra in dicc_con_alfabeto:\n",
    "        sub_diccionario = dicc_con_alfabeto[letra]\n",
    "        dicc_con_alfabeto[letra] = dict(sorted(sub_diccionario.items()))  # sorted ordena pares de valores por defecto orden ascendente y dict vuelve a convertir la lista ordenada en un diccionario.\n",
    "\n",
    "    return dicc_con_alfabeto\n"
   ]
  },
  {
   "cell_type": "code",
   "execution_count": 60,
   "id": "5f057e77-daa0-4594-9095-fb98d1baf361",
   "metadata": {},
   "outputs": [
    {
     "data": {
      "text/plain": [
       "'Error: No se ha encontrado el archivo.'"
      ]
     },
     "execution_count": 60,
     "metadata": {},
     "output_type": "execute_result"
    }
   ],
   "source": [
    "contador_y_ordenador_palabras(\"C:/Users/formacio/nt7/tu_me_quieres.txt\")"
   ]
  },
  {
   "cell_type": "code",
   "execution_count": 59,
   "id": "d459ced2-0970-4284-bbf2-7b80c6a0772d",
   "metadata": {},
   "outputs": [
    {
     "data": {
      "text/plain": [
       "{'a': {'a': 2, 'al': 1, 'alba': 3, 'azucena': 1},\n",
       " 'b': {'baco': 1, 'banquete': 1, 'blanca': 2},\n",
       " 'c': {'carnes': 1,\n",
       "  'casta': 2,\n",
       "  'cerrada': 1,\n",
       "  'conservas': 1,\n",
       "  'copas': 1,\n",
       "  'corola': 1,\n",
       "  'corriste': 1,\n",
       "  'cubierto': 1,\n",
       "  'cuáles': 1},\n",
       " 'd': {'de': 7, 'dejaste': 1, 'del': 1, 'diga': 1, 'dios': 2},\n",
       " 'e': {'el': 2,\n",
       "  'en': 2,\n",
       "  'engaño': 1,\n",
       "  'espumas': 1,\n",
       "  'esqueleto': 1,\n",
       "  'estrago': 1},\n",
       " 'f': {'festejando': 1, 'filtrado': 1, 'frutos': 1},\n",
       " 'h': {'haya': 1, 'hermana': 1, 'hubiste': 1},\n",
       " 'i': {'intacto': 1},\n",
       " 'j': {'jardines': 1},\n",
       " 'l': {'labios': 1, 'las': 2, 'lo': 2, 'los': 2, 'luna': 1},\n",
       " 'm': {'mano': 1,\n",
       "  'margarita': 1,\n",
       "  'me': 10,\n",
       "  'mi': 1,\n",
       "  'mieles': 1,\n",
       "  'milagros': 1,\n",
       "  'morados': 1},\n",
       " 'n': {'negros': 1, 'ni': 2, 'no': 1, 'nácar': 1, 'nívea': 1},\n",
       " 'p': {'perdone': 2, 'perfume': 1, 'por': 1, 'pretendes': 3, 'pámpanos': 1},\n",
       " 'q': {'que': 5, 'quieres': 6},\n",
       " 'r': {'rayo': 1, 'rojo': 1},\n",
       " 's': {'se': 1, 'sea': 1, 'sobre': 1, 'sé': 1},\n",
       " 't': {'te': 2, 'tenue': 1, 'todas': 2, 'todavía': 1, 'tú': 8},\n",
       " 'u': {'un': 1, 'una': 1},\n",
       " 'v': {'vestido': 1},\n",
       " 'y': {'y': 1}}"
      ]
     },
     "execution_count": 59,
     "metadata": {},
     "output_type": "execute_result"
    }
   ],
   "source": [
    "contador_y_ordenador_palabras(\"C:/Users/formacio/Desktop/Sandra/Sprint7/tu_me_quieres_blanca(bis).txt\")"
   ]
  },
  {
   "cell_type": "code",
   "execution_count": 38,
   "id": "549892c8-520e-44d3-862a-f1a4bb7298cc",
   "metadata": {
    "colab": {
     "base_uri": "https://localhost:8080/"
    },
    "id": "549892c8-520e-44d3-862a-f1a4bb7298cc",
    "outputId": "beccd85e-9448-410c-a5f3-446b1c477b9b"
   },
   "outputs": [],
   "source": [
    "#Exercici 2.- Conversió de tipus de dades ###################################################\n",
    "\n",
    " #El client rep una llista de dades i necessita generar dues llistes, la primera on estaran tots els elements que es van poder\n",
    " #convertir en flotants i l'altra on estan els elements que no es van poder convertir. Exemple de la llista que rep el client:\n",
    " #[ '1.3', 'one' , '1e10' , 'seven', '3-1/2', ('2',1,1.4,'not-a-number'), [1,2,'3','3.4']]\n",
    "\n",
    "\n",
    "def conversion_datos(lista_datos):\n",
    "    lista_elementos = []\n",
    "    \n",
    "    lista_float = []\n",
    "    lista_no_float = []\n",
    "    \n",
    "    for elemento in lista_datos:\n",
    "        if isinstance(elemento, (list, tuple)):\n",
    "            lista_elementos.extend(elemento)\n",
    "        else:\n",
    "            lista_elementos.append(elemento)\n",
    "    \n",
    "    for elemento in lista_elementos:\n",
    "            try:\n",
    "                lista_float.append(float(elemento))\n",
    "            except ValueError:\n",
    "                lista_no_float.append(elemento)\n",
    "    return {\n",
    "        \"Lista de floats\": lista_float, \n",
    "        \"Lista no floats\": lista_no_float  \n",
    "    }\n",
    "\n"
   ]
  },
  {
   "cell_type": "code",
   "execution_count": 39,
   "id": "82021a4f-d189-4192-8a20-6dee5f25d81c",
   "metadata": {},
   "outputs": [
    {
     "data": {
      "text/plain": [
       "{'Lista de floats': [1.3, 10000000000.0, 2.0, 1.0, 1.4, 1.0, 2.0, 3.0, 3.4],\n",
       " 'Lista no floats': ['one', 'seven', '3-1/2', 'not-a-number']}"
      ]
     },
     "execution_count": 39,
     "metadata": {},
     "output_type": "execute_result"
    }
   ],
   "source": [
    "conversion_datos(lista_datos = [ '1.3', 'one' , '1e10' , 'seven', '3-1/2', ('2',1,1.4,'not-a-number'), [1,2,'3','3.4']])"
   ]
  },
  {
   "cell_type": "code",
   "execution_count": null,
   "id": "f1b19399-0a9e-46ca-8347-7c0a1b228024",
   "metadata": {},
   "outputs": [],
   "source": []
  }
 ],
 "metadata": {
  "colab": {
   "provenance": []
  },
  "kernelspec": {
   "display_name": "Python 3 (ipykernel)",
   "language": "python",
   "name": "python3"
  },
  "language_info": {
   "codemirror_mode": {
    "name": "ipython",
    "version": 3
   },
   "file_extension": ".py",
   "mimetype": "text/x-python",
   "name": "python",
   "nbconvert_exporter": "python",
   "pygments_lexer": "ipython3",
   "version": "3.13.5"
  }
 },
 "nbformat": 4,
 "nbformat_minor": 5
}
